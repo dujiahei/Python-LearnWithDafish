{
 "cells": [
  {
   "cell_type": "markdown",
   "metadata": {},
   "source": [
    "# 大鱼AI-Python课程-Day6"
   ]
  },
  {
   "cell_type": "markdown",
   "metadata": {},
   "source": [
    "# 《try/except/finally》"
   ]
  },
  {
   "cell_type": "markdown",
   "metadata": {},
   "source": [
    "上节课我们学习了文件的读取和写入方法，然而有时候当我们读取特定文件但是却不存在的时候我们的代码就会报错，这时候整个程序就会终止，这可能不是我们想看到的"
   ]
  },
  {
   "cell_type": "code",
   "execution_count": 56,
   "metadata": {},
   "outputs": [
    {
     "ename": "FileNotFoundError",
     "evalue": "[Errno 2] No such file or directory: '不存在的文件.txt'",
     "output_type": "error",
     "traceback": [
      "\u001b[1;31m---------------------------------------------------------------------------\u001b[0m",
      "\u001b[1;31mFileNotFoundError\u001b[0m                         Traceback (most recent call last)",
      "\u001b[1;32m<ipython-input-56-50d63a6f46b9>\u001b[0m in \u001b[0;36m<module>\u001b[1;34m()\u001b[0m\n\u001b[1;32m----> 1\u001b[1;33m \u001b[1;32mwith\u001b[0m \u001b[0mopen\u001b[0m\u001b[1;33m(\u001b[0m\u001b[1;34m'不存在的文件.txt'\u001b[0m\u001b[1;33m,\u001b[0m \u001b[1;34m'r'\u001b[0m\u001b[1;33m)\u001b[0m \u001b[1;32mas\u001b[0m \u001b[0mf\u001b[0m\u001b[1;33m:\u001b[0m\u001b[1;33m\u001b[0m\u001b[0m\n\u001b[0m\u001b[0;32m      2\u001b[0m     \u001b[0mprint\u001b[0m\u001b[1;33m(\u001b[0m\u001b[0mf\u001b[0m\u001b[1;33m.\u001b[0m\u001b[0mread\u001b[0m\u001b[1;33m(\u001b[0m\u001b[1;33m)\u001b[0m\u001b[1;33m)\u001b[0m\u001b[1;33m\u001b[0m\u001b[0m\n\u001b[0;32m      3\u001b[0m \u001b[0mprint\u001b[0m\u001b[1;33m(\u001b[0m\u001b[1;34m'就算找不到文件我也想执行这行代码'\u001b[0m\u001b[1;33m)\u001b[0m  \u001b[1;31m#这行代码由于报错没有被执行，因为程序已经被终止\u001b[0m\u001b[1;33m\u001b[0m\u001b[0m\n",
      "\u001b[1;31mFileNotFoundError\u001b[0m: [Errno 2] No such file or directory: '不存在的文件.txt'"
     ]
    }
   ],
   "source": [
    "with open('不存在的文件.txt', 'r') as f:\n",
    "    print(f.read())\n",
    "print('就算找不到文件我也想执行这行代码')  #这行代码由于报错没有被执行，因为程序已经被终止 "
   ]
  },
  {
   "cell_type": "markdown",
   "metadata": {},
   "source": [
    "这时候我们可以使用try/except语句解决这个问题，即先try(尝试)做某事，如果except(不成功)，我们再去做某事"
   ]
  },
  {
   "cell_type": "code",
   "execution_count": 61,
   "metadata": {},
   "outputs": [
    {
     "name": "stdout",
     "output_type": "stream",
     "text": [
      "不存在这个文件\n",
      "就算找不到文件我也想执行这行代码\n"
     ]
    }
   ],
   "source": [
    "#示例代码\n",
    "try:\n",
    "    with open('不存在的文件.txt', 'r') as f:\n",
    "        print(f.read())\n",
    "except FileNotFoundError:\n",
    "    print('不存在这个文件')                 # 由于不存在文件，即我们捕获到了FileNotFoundError异常，则执行except下的代码\n",
    "print('就算找不到文件我也想执行这行代码')   # 由于没有出现报错终止程序，这行代码被得到执行"
   ]
  },
  {
   "cell_type": "markdown",
   "metadata": {},
   "source": [
    "这时候我们再仔细看上面的代码，它包括一个try代码块和except代码块：  \n",
    "- try代码块：    通常包裹的是那些我们觉得很有可能会出错的代码，比如说读取一个不知道有没有存在的文件\n",
    "- except代码块：  包括一个待捕获的异常（上面中的FileNotFoundError），当捕获到这个异常，就执行except中的代码"
   ]
  },
  {
   "cell_type": "markdown",
   "metadata": {},
   "source": [
    "### 常见的可捕获的异常有：  \n",
    "KeyboardInterrupt\t：---用户中断执行(通常是输入^C)  \n",
    "SyntaxError\t：---Python 语法错误  \n",
    "TypeError\t：---对类型无效的操作  \n",
    "ValueError\t：---传入无效的参数  \n",
    "FileNotFoundError ：---找不到指定文件  "
   ]
  },
  {
   "cell_type": "markdown",
   "metadata": {},
   "source": [
    "除此之外  \n",
    "- 我们可以捕捉在一个except代码块中捕获多个异常，用括号包裹，用逗号分开\n",
    "- 当我们不指定逮捕或的异常时，代表所有异常都会被捕获，并执行这个except代码块下的语句\n",
    "- 我们还可以在try和except代码块后添加一个finally代码块，代表不管怎样，这段代码都会被执行"
   ]
  },
  {
   "cell_type": "code",
   "execution_count": 62,
   "metadata": {},
   "outputs": [
    {
     "name": "stdout",
     "output_type": "stream",
     "text": [
      "不存在这个文件或是发生语法错误\n"
     ]
    }
   ],
   "source": [
    "#示例代码\n",
    "try:\n",
    "    with open('不存在的文件.txt', 'r') as f:\n",
    "        print(f.read())\n",
    "except (FileNotFoundError, SyntaxError):        # 捕获多个异常\n",
    "    print('不存在这个文件或是发生语法错误')                "
   ]
  },
  {
   "cell_type": "code",
   "execution_count": 63,
   "metadata": {},
   "outputs": [
    {
     "name": "stdout",
     "output_type": "stream",
     "text": [
      "不存在这个文件或是发生语法错误\n",
      "大鱼AI的学员大家好，作为finally下的代码，我不管怎么样都会被执行\n"
     ]
    }
   ],
   "source": [
    "#示例代码\n",
    "try:\n",
    "    with open('不存在的文件.txt', 'r') as f:\n",
    "        print(f.read())\n",
    "except:        # 捕获多个异常\n",
    "    print('不存在这个文件或是发生语法错误')        \n",
    "finally:\n",
    "    print('大鱼AI的学员大家好，作为finally下的代码，我不管怎么样都会被执行')"
   ]
  },
  {
   "cell_type": "code",
   "execution_count": 64,
   "metadata": {},
   "outputs": [],
   "source": [
    "##############Test Zone#############\n",
    "#自己动写一个try/except代码\n",
    "\n",
    "\n",
    "\n",
    "\n",
    "\n",
    "\n",
    "\n",
    "\n",
    "\n",
    "\n",
    "\n",
    "\n",
    "#######################################"
   ]
  },
  {
   "cell_type": "markdown",
   "metadata": {},
   "source": [
    "# 《类》"
   ]
  },
  {
   "cell_type": "markdown",
   "metadata": {},
   "source": [
    "今天我们还将学习python中的类的创建和继承方法，类是OOP面向对象编程的基础，面向对象编程的好处就是让程序更能清晰的表达出其含义，类丰富了语言的自定义数据类型以及含义。另外，面向对象编程更容易系统的维护和扩展。因为类把相同的内容封装起来，一旦需要修改或者扩展，是比较聚焦的。"
   ]
  },
  {
   "cell_type": "markdown",
   "metadata": {},
   "source": [
    "- 了解： 类被经常运用在Tensorflow和Keras等深度学习框架的自定义网络层中，而Pytorch的神经网络搭建更是需要用到类的创建和继承，所以对于要入门深度学习的同学来说类是不得不掌握的一个内容。"
   ]
  },
  {
   "cell_type": "markdown",
   "metadata": {},
   "source": [
    "# 类的创建"
   ]
  },
  {
   "cell_type": "markdown",
   "metadata": {},
   "source": [
    "首先记住，类是一个抽象的模板，比如说动物（Animal）是一个抽象的类别，而“小鱼”隶属动物，相当于类的实例"
   ]
  },
  {
   "cell_type": "markdown",
   "metadata": {},
   "source": [
    "### 简单类"
   ]
  },
  {
   "cell_type": "code",
   "execution_count": 2,
   "metadata": {},
   "outputs": [],
   "source": [
    "#创建一个动物类\n",
    "class Animal():\n",
    "    pass"
   ]
  },
  {
   "cell_type": "code",
   "execution_count": 8,
   "metadata": {},
   "outputs": [
    {
     "data": {
      "text/plain": [
       "(__main__.Animal, __main__.Animal)"
      ]
     },
     "execution_count": 8,
     "metadata": {},
     "output_type": "execute_result"
    }
   ],
   "source": [
    "fish = Animal()   #实例化一个动物实体“小鱼”\n",
    "dog = Animal()\n",
    "type(fish), type(dog)"
   ]
  },
  {
   "cell_type": "markdown",
   "metadata": {},
   "source": [
    "在上述代码中，我们在第一个cell定义了一个动物的类，但是没有添加任何的属性和方法，在第二个格子以动物这个类创建里一个实例化对象小鱼和小狗"
   ]
  },
  {
   "cell_type": "markdown",
   "metadata": {},
   "source": [
    "### 带有自定义属性的类"
   ]
  },
  {
   "cell_type": "markdown",
   "metadata": {},
   "source": [
    "接下来我们来给类添加一些属性，使得我们可以构建更丰富的实例  \n",
    "- 给类添加属性需要定义一个初始化方法(__init__)\n",
    "- 在类中定义方法都需要在开头传入一个self参数，代表“实例本身”， 在后面一个案例中，这个概念将更好理解"
   ]
  },
  {
   "cell_type": "code",
   "execution_count": 18,
   "metadata": {},
   "outputs": [],
   "source": [
    "class Animal():\n",
    "    def __init__(self, name, age):     # 定义初始化方法__init__， 代传入动物的姓名和年龄的参数作为类的属性\n",
    "        self.name = name               # 左边的self.name代表实例对象的属性，右边的name代表从外部传入的参数\n",
    "        self.age = age                 # 同上"
   ]
  },
  {
   "cell_type": "code",
   "execution_count": 19,
   "metadata": {},
   "outputs": [],
   "source": [
    "fish = Animal('小鱼', 2)            #现在在实例化的时候就可以传入name和age属性，构造更丰富的实例\n",
    "dog = Animal('小狗', 8)"
   ]
  },
  {
   "cell_type": "code",
   "execution_count": 20,
   "metadata": {},
   "outputs": [
    {
     "name": "stdout",
     "output_type": "stream",
     "text": [
      "大家好，我是小鱼，今年2岁\n",
      "大家好，我是小狗，今年8岁\n"
     ]
    }
   ],
   "source": [
    "print('大家好，我是{}，今年{}岁'.format(fish.name, fish.age))     #调用实例的属性，使用 object.attribute即可\n",
    "print('大家好，我是{}，今年{}岁'.format(dog.name, dog.age))"
   ]
  },
  {
   "cell_type": "markdown",
   "metadata": {},
   "source": [
    "### 带有自定义方法的类"
   ]
  },
  {
   "cell_type": "markdown",
   "metadata": {},
   "source": [
    "在类中除了可以自定义属性，还可以自定义方法，并且这些方法可以调用类中的属性，非常便于使用与管理"
   ]
  },
  {
   "cell_type": "code",
   "execution_count": 22,
   "metadata": {},
   "outputs": [],
   "source": [
    "class Animal():\n",
    "    def __init__(self, name, age):     # 定义初始化方法__init__， 代传入动物的姓名和年龄的参数作为类的属性\n",
    "        self.name = name               # 左边的self.name代表实例对象的属性，右边的name代表从外部传入的参数\n",
    "        self.age = age                 # 同上\n",
    "        \n",
    "    def self_introduce(self):          # 定义一个让动物作自我介绍的方法\n",
    "        print('大家好，我是{}，今年{}岁'.format(self.name, self.age))"
   ]
  },
  {
   "cell_type": "code",
   "execution_count": 23,
   "metadata": {},
   "outputs": [],
   "source": [
    "# 传入属性参数构建实例\n",
    "fish = Animal('小鱼', 2)            \n",
    "dog = Animal('小狗', 8)"
   ]
  },
  {
   "cell_type": "code",
   "execution_count": 24,
   "metadata": {},
   "outputs": [
    {
     "name": "stdout",
     "output_type": "stream",
     "text": [
      "大家好，我是小鱼，今年2岁\n"
     ]
    }
   ],
   "source": [
    "# 调用实例对象的方法\n",
    "fish.self_introduce()"
   ]
  },
  {
   "cell_type": "code",
   "execution_count": 25,
   "metadata": {},
   "outputs": [
    {
     "name": "stdout",
     "output_type": "stream",
     "text": [
      "大家好，我是小狗，今年8岁\n"
     ]
    }
   ],
   "source": [
    "dog.self_introduce()"
   ]
  },
  {
   "cell_type": "markdown",
   "metadata": {},
   "source": [
    "- 在上面两个cell中我们可以看到，不同的实例对象由于有着不同的属性，哪怕调用的是一个方法，出来的结果也不相同"
   ]
  },
  {
   "cell_type": "code",
   "execution_count": 27,
   "metadata": {},
   "outputs": [],
   "source": [
    "##############Test Zone#############\n",
    "#自己创建一个抽象类，比如Student，而后实例不同的学生对象，定义一些属性和方法玩一玩\n",
    "\n",
    "\n",
    "\n",
    "\n",
    "\n",
    "\n",
    "\n",
    "\n",
    "\n",
    "\n",
    "\n",
    "\n",
    "#######################################"
   ]
  },
  {
   "cell_type": "markdown",
   "metadata": {},
   "source": [
    "# 类的继承"
   ]
  },
  {
   "cell_type": "markdown",
   "metadata": {},
   "source": [
    "在OOP程序设计中，当我们定义一个class的时候，可以从某个现有的class继承，新的class称为子类（Subclass），而被继承的class称为基类、父类或超类（Base class、Super class）"
   ]
  },
  {
   "cell_type": "code",
   "execution_count": 34,
   "metadata": {},
   "outputs": [],
   "source": [
    "#定义鱼类和狗类并继承Animal类\n",
    "class FishClass(Animal):\n",
    "    pass"
   ]
  },
  {
   "cell_type": "markdown",
   "metadata": {},
   "source": [
    "继承的优势就是子类继承了父类的全部功能，而不用再重新写一遍"
   ]
  },
  {
   "cell_type": "code",
   "execution_count": 33,
   "metadata": {},
   "outputs": [
    {
     "name": "stdout",
     "output_type": "stream",
     "text": [
      "大家好，我是Tony，今年12岁\n"
     ]
    }
   ],
   "source": [
    "# 创建字类的实例并调用方法\n",
    "fish_tony = FishClass('Tony', 12)\n",
    "fish_tony.self_introduce()"
   ]
  },
  {
   "cell_type": "markdown",
   "metadata": {},
   "source": [
    "除此之外，子类还可以扩展自身的方法而不影响到父类"
   ]
  },
  {
   "cell_type": "code",
   "execution_count": 42,
   "metadata": {},
   "outputs": [],
   "source": [
    "class FishClass(Animal):\n",
    "    def self_introduce(self):                                             #重新改写子类的self_introduce方法，加上介绍是什么种类\n",
    "        print('大家好，我是{}，今年{}岁'.format(self.name, self.age))\n",
    "        print('我是一只鱼')"
   ]
  },
  {
   "cell_type": "code",
   "execution_count": 43,
   "metadata": {},
   "outputs": [
    {
     "name": "stdout",
     "output_type": "stream",
     "text": [
      "大家好，我是Tony，今年12岁\n",
      "我是一只鱼\n"
     ]
    }
   ],
   "source": [
    "fish_tony = FishClass('Tony', 12)\n",
    "fish_tony.self_introduce()"
   ]
  },
  {
   "cell_type": "code",
   "execution_count": 45,
   "metadata": {},
   "outputs": [
    {
     "name": "stdout",
     "output_type": "stream",
     "text": [
      "大家好，我是小鱼，今年8岁\n"
     ]
    }
   ],
   "source": [
    "# 而父类仍然调用的是原来的self_introduce方法，没有影响\n",
    "fish_xiaoyu = Animal('小鱼', 8)\n",
    "fish_xiaoyu.self_introduce()"
   ]
  },
  {
   "cell_type": "code",
   "execution_count": 48,
   "metadata": {},
   "outputs": [],
   "source": [
    "# 事实上我们还可以简化字类的代码\n",
    "class FishClass(Animal):\n",
    "    def self_introduce(self):      #重新改写子类的self_introduce方法，加上介绍是什么种类\n",
    "        super().self_introduce()   # super()方法返回的是这个实例的父类对象，即在这里先调用了父类Animal的self_introduce方法\n",
    "        print('我是一只鱼')"
   ]
  },
  {
   "cell_type": "code",
   "execution_count": 65,
   "metadata": {},
   "outputs": [
    {
     "name": "stdout",
     "output_type": "stream",
     "text": [
      "大家好，我是Emily，今年12岁\n",
      "我是一只鱼\n"
     ]
    }
   ],
   "source": [
    "# 在这里得到了一样的效果\n",
    "fish_emily = FishClass('Emily', 12)\n",
    "fish_emily.self_introduce()       "
   ]
  },
  {
   "cell_type": "code",
   "execution_count": 66,
   "metadata": {},
   "outputs": [],
   "source": [
    "##############Test Zone#############\n",
    "#自己创建一个抽象类，并定义它的字类，例如父类是复仇者联盟，子类是里面的超级英雄，每个人有不同的年龄、性别、名字、武器等等\n",
    "\n",
    "\n",
    "\n",
    "\n",
    "\n",
    "\n",
    "\n",
    "\n",
    "\n",
    "\n",
    "\n",
    "#######################################"
   ]
  }
 ],
 "metadata": {
  "kernelspec": {
   "display_name": "Python 3",
   "language": "python",
   "name": "python3"
  },
  "language_info": {
   "codemirror_mode": {
    "name": "ipython",
    "version": 3
   },
   "file_extension": ".py",
   "mimetype": "text/x-python",
   "name": "python",
   "nbconvert_exporter": "python",
   "pygments_lexer": "ipython3",
   "version": "3.6.5"
  }
 },
 "nbformat": 4,
 "nbformat_minor": 2
}
