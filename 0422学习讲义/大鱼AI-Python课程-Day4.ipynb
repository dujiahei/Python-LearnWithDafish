{
 "cells": [
  {
   "cell_type": "markdown",
   "metadata": {},
   "source": [
    "# 大鱼AI-Python课程-Day4"
   ]
  },
  {
   "cell_type": "markdown",
   "metadata": {},
   "source": [
    "函数是组织好的，可重复使用的，用来实现单一，或相关联功能的代码段。\n",
    "\n",
    "函数能提高应用的模块性，和代码的重复利用率。你已经知道Python提供了许多内建函数，比如print()。但你也可以自己创建函数，这被叫做用户自定义函数。"
   ]
  },
  {
   "cell_type": "markdown",
   "metadata": {},
   "source": [
    "## 函数定义\n",
    "\n",
    "    def 函数名():\n",
    "\n",
    "        执行代码\n",
    "    return [表达式]\n",
    " \n",
    "### 实例"
   ]
  },
  {
   "cell_type": "code",
   "execution_count": 11,
   "metadata": {},
   "outputs": [],
   "source": [
    "#从定义一个属于我们自己的输出函数开始，这个函数会在输出句子的末尾加上‘ 我爱大鱼AI’。\n",
    "def my_print(str1):\n",
    "    print(str1+' 我爱大鱼AI')\n"
   ]
  },
  {
   "cell_type": "markdown",
   "metadata": {},
   "source": [
    "### 调用"
   ]
  },
  {
   "cell_type": "code",
   "execution_count": 6,
   "metadata": {},
   "outputs": [
    {
     "name": "stdout",
     "output_type": "stream",
     "text": [
      "大鱼AI 我爱大鱼AI\n"
     ]
    }
   ],
   "source": [
    "#现在我们来调用测试一下，这个函数是否真的可以如预计的一样工作。\n",
    "my_print('大鱼AI')"
   ]
  },
  {
   "cell_type": "markdown",
   "metadata": {},
   "source": [
    "### 参数传递"
   ]
  },
  {
   "cell_type": "code",
   "execution_count": 12,
   "metadata": {},
   "outputs": [
    {
     "name": "stdout",
     "output_type": "stream",
     "text": [
      "大鱼AI 我爱大鱼AI\n",
      "大鱼AI 我爱大鱼AI\n",
      "我爱大鱼\n",
      "大鱼我爱\n",
      "我爱大鱼\n",
      "我爱大鱼\n"
     ]
    }
   ],
   "source": [
    "#这里展示了两种传入参数的方式\n",
    "my_print('大鱼AI')    #普通参数\n",
    "my_print(str1 ='大鱼AI')  #关键字参数\n",
    "\n",
    "#如果使用第二种方式传入参数，且函数有多个传入参数，那么传入参数的顺序没有影响。\n",
    "\n",
    "def my_print_2(str1,str2):  #这个函数有两个传入参数，并将其合并输出\n",
    "    print(str1+str2)\n",
    "\n",
    "#研究一下四种输出的区别\n",
    "my_print_2('我爱','大鱼')\n",
    "my_print_2('大鱼','我爱')\n",
    "my_print_2(str1='我爱',str2='大鱼')\n",
    "my_print_2(str2='大鱼',str1='我爱')\n",
    "\n",
    "def my_print_2(str1,str2):  #这个函数有两个传入参数，并将其合并输出\n",
    "    print(str1+str2)\n",
    "    return \n"
   ]
  },
  {
   "cell_type": "code",
   "execution_count": 15,
   "metadata": {},
   "outputs": [
    {
     "name": "stdout",
     "output_type": "stream",
     "text": [
      "我爱大鱼\n",
      "I love Dayu\n"
     ]
    }
   ],
   "source": [
    "#你还可以给参数定义默认值，在没有参数传入的时候会调用默认值。\n",
    "def my_print_3(str1='我爱大鱼'):  #这个函数有两个传入参数，并将其合并输出\n",
    "    print(str1)\n",
    "\n",
    "my_print_3()  \n",
    "my_print_3('I love Dayu')\n",
    "\n",
    "设置默认参数时注意事项：必选参数在前，默认参数在后，这样可以简化编程难度。\n",
    "\n"
   ]
  },
  {
   "cell_type": "code",
   "execution_count": 20,
   "metadata": {},
   "outputs": [
    {
     "name": "stdout",
     "output_type": "stream",
     "text": [
      "大鱼\n",
      "小鱼\n",
      "\n",
      "大鱼\n",
      "小鱼\n",
      "我爱大鱼AI\n",
      "\n",
      "大鱼 小鱼 我爱大鱼AI\n"
     ]
    }
   ],
   "source": [
    "#传入参数的个数还可以发生变化\n",
    "\n",
    "def my_print_variable(*str):\n",
    "    for i in str:\n",
    "        print(i)\n",
    "    return \n",
    "\n",
    "my_print_variable('大鱼','小鱼')\n",
    "print()\n",
    "my_print_variable('大鱼','小鱼','我爱大鱼AI')\n",
    "print()\n",
    "\n",
    "a_list=['大鱼','小鱼','我爱大鱼AI']\n",
    "print(*a_list)  #试试去掉这个*查看对应的输出"
   ]
  },
  {
   "cell_type": "markdown",
   "metadata": {},
   "source": [
    "### 函数返回值\n",
    "\n",
    "return语句[表达式]退出函数，选择性地向调用方返回一个表达式。不带参数值的return语句返回None。\n",
    "\n",
    "上述例子都没有如何返回数值，接下来演示带返回数值的函数。"
   ]
  },
  {
   "cell_type": "code",
   "execution_count": 25,
   "metadata": {},
   "outputs": [
    {
     "name": "stdout",
     "output_type": "stream",
     "text": [
      "500\n",
      "['我爱', '大鱼AI']\n"
     ]
    }
   ],
   "source": [
    "# 计算两个数的和\n",
    "\n",
    "def sum(value1,value2):\n",
    "    total=value1+value2\n",
    "    return total\n",
    "\n",
    "print(sum(200,300)) #看看输出是不是200加300的和\n",
    "\n",
    "#函数的返回值不只局限于数值，几乎可以是任何类型，例如一个list\n",
    "\n",
    "def text_combine (value1,value2):\n",
    "    return [value1,value2]\n",
    "\n",
    "type(text_combine('我爱','大鱼AI'))  #查看一下这个函数的返回值类型和内容\n",
    "print(text_combine('我爱','大鱼AI'))"
   ]
  },
  {
   "cell_type": "markdown",
   "metadata": {},
   "source": [
    "### 函数变量的作用范围"
   ]
  },
  {
   "cell_type": "code",
   "execution_count": 30,
   "metadata": {},
   "outputs": [
    {
     "name": "stdout",
     "output_type": "stream",
     "text": [
      "我爱大鱼AI\n"
     ]
    },
    {
     "ename": "NameError",
     "evalue": "name 'text' is not defined",
     "output_type": "error",
     "traceback": [
      "\u001b[1;31m---------------------------------------------------------------------------\u001b[0m",
      "\u001b[1;31mNameError\u001b[0m                                 Traceback (most recent call last)",
      "\u001b[1;32m<ipython-input-30-45e1e081e168>\u001b[0m in \u001b[0;36m<module>\u001b[1;34m()\u001b[0m\n\u001b[0;32m      7\u001b[0m \u001b[1;33m\u001b[0m\u001b[0m\n\u001b[0;32m      8\u001b[0m \u001b[0mprint\u001b[0m\u001b[1;33m(\u001b[0m\u001b[0msum\u001b[0m\u001b[1;33m(\u001b[0m\u001b[0mstring1\u001b[0m\u001b[1;33m,\u001b[0m\u001b[0mstring2\u001b[0m\u001b[1;33m)\u001b[0m\u001b[1;33m)\u001b[0m \u001b[1;31m#看看输出是不是200加300的和\u001b[0m\u001b[1;33m\u001b[0m\u001b[0m\n\u001b[1;32m----> 9\u001b[1;33m \u001b[0mprint\u001b[0m\u001b[1;33m(\u001b[0m\u001b[0mtext\u001b[0m\u001b[1;33m)\u001b[0m \u001b[1;31m#试试输出text_combione()这个函数中局部变量text，报错，未定义\u001b[0m\u001b[1;33m\u001b[0m\u001b[0m\n\u001b[0m",
      "\u001b[1;31mNameError\u001b[0m: name 'text' is not defined"
     ]
    }
   ],
   "source": [
    "string1='我爱'  #这是一个全局变量 ，可以再整个程序范围内访问\n",
    "string2='大鱼AI'\n",
    "\n",
    "def text_combine (value1,value2):\n",
    "    text=value1+value2  #局部变量，只在这个函数内部生效\n",
    "    return text\n",
    "\n",
    "print(sum(string1,string2)) #看看输出是不是200加300的和\n",
    "print(text) #试试输出text_combione()这个函数中局部变量text，报错，未定义"
   ]
  },
  {
   "cell_type": "code",
   "execution_count": 67,
   "metadata": {},
   "outputs": [],
   "source": [
    "##在这里尝试定义自己的函数，可以输出一串文本 N次 。 这里的文本是必须参数，次数是可选参数，且次数有默认值\n",
    "\n",
    "\n",
    "\n",
    "\n",
    "##################"
   ]
  },
  {
   "cell_type": "markdown",
   "metadata": {},
   "source": [
    "### 内嵌函数和闭包\n",
    "\n",
    "python中的函数定义是可以嵌套的,就是可以在函数内部再建一个函数。\n",
    "\n",
    "内部的函数就为:内嵌函数"
   ]
  },
  {
   "cell_type": "code",
   "execution_count": 40,
   "metadata": {},
   "outputs": [
    {
     "name": "stdout",
     "output_type": "stream",
     "text": [
      "大鱼\n",
      "AI\n"
     ]
    }
   ],
   "source": [
    "def  fun():\n",
    "    string = '大鱼'\n",
    "    def foo():   #foo()为内嵌函数\n",
    "        string2 = 'AI'  #内部函数的局部变量\n",
    "        print(string2)\n",
    "    print(string)\n",
    "    foo()\n",
    "fun()"
   ]
  },
  {
   "cell_type": "markdown",
   "metadata": {},
   "source": [
    "思考题：这里的foo函数可以访问fun()的string变量吗？"
   ]
  },
  {
   "cell_type": "markdown",
   "metadata": {},
   "source": [
    "闭包：内部函数使用外部函数的局部变量，那么我们就称内部函数为闭包"
   ]
  },
  {
   "cell_type": "code",
   "execution_count": 46,
   "metadata": {},
   "outputs": [
    {
     "name": "stdout",
     "output_type": "stream",
     "text": [
      "大鱼AI\n"
     ]
    }
   ],
   "source": [
    "def  fun():\n",
    "    out_string = '大鱼'\n",
    "    def text_combine(string2):   #因为out_string为外部函数的局部变量，所以这个内部函数就是闭包\n",
    "        print(out_string+string2)  #连接两个string并输出\n",
    "    text_combine('AI')\n",
    "fun()  #看看是不是输出了大鱼AI"
   ]
  },
  {
   "cell_type": "code",
   "execution_count": 68,
   "metadata": {},
   "outputs": [],
   "source": [
    "#########尝试输出斐波拉楔数列的前20项\n",
    "\n",
    "\n",
    "\n",
    "\n",
    "\n",
    "\n",
    "#####################################"
   ]
  },
  {
   "cell_type": "markdown",
   "metadata": {},
   "source": [
    "#### 闭包引用外部函数的局部变量的前提是：内部没有这个变量"
   ]
  },
  {
   "cell_type": "markdown",
   "metadata": {},
   "source": [
    "## lambda表达式"
   ]
  },
  {
   "cell_type": "markdown",
   "metadata": {},
   "source": [
    "python 使用 lambda 来创建匿名函数。\n",
    "\n",
    "    lambda只是一个表达式，函数体比def简单很多。\n",
    "\n",
    "    lambda的主体是一个表达式，而不是一个代码块。仅仅能在lambda表达式中封装有限的逻辑进去。\n",
    "\n",
    "    lambda函数拥有自己的命名空间，且不能访问自有参数列表之外或全局命名空间里的参数。\n",
    "\n",
    "    虽然lambda函数看起来只能写一行，却不等同于C或C++的内联函数，后者的目的是调用小函数时不占用栈内存从而增加运行效率。"
   ]
  },
  {
   "cell_type": "markdown",
   "metadata": {},
   "source": [
    "lambda 基本形式\n",
    "\n",
    "    lambda argument_list : expression "
   ]
  },
  {
   "cell_type": "code",
   "execution_count": 48,
   "metadata": {},
   "outputs": [
    {
     "name": "stdout",
     "output_type": "stream",
     "text": [
      "300\n"
     ]
    }
   ],
   "source": [
    "sum=lambda value1,value2 : value1+value2\n",
    "#   ^关键字  ^参数列表      ^表达式\n",
    "print(sum(100,200))"
   ]
  },
  {
   "cell_type": "markdown",
   "metadata": {},
   "source": [
    "## 两个常用内建函数"
   ]
  },
  {
   "cell_type": "markdown",
   "metadata": {},
   "source": [
    "lambda可以用于部分python内置函数的接收函数，实现自定义逻辑\n",
    "\n",
    "例如 filter()函数"
   ]
  },
  {
   "cell_type": "code",
   "execution_count": 57,
   "metadata": {},
   "outputs": [
    {
     "name": "stdout",
     "output_type": "stream",
     "text": [
      "[0, 3, 6, 9]\n"
     ]
    }
   ],
   "source": [
    "num_list=[0,1,2,3,4,5,6,7,8,9]\n",
    "print(list(filter(lambda x: x % 3 == 0,num_list)))   #筛选出能被3整除的数"
   ]
  },
  {
   "cell_type": "markdown",
   "metadata": {},
   "source": [
    "map()函数"
   ]
  },
  {
   "cell_type": "code",
   "execution_count": 60,
   "metadata": {},
   "outputs": [
    {
     "name": "stdout",
     "output_type": "stream",
     "text": [
      "[4, 5, 6, 7, 8, 9, 10, 11, 12, 13]\n"
     ]
    }
   ],
   "source": [
    "num_list=[0,1,2,3,4,5,6,7,8,9]\n",
    "a=list(map(lambda x: x+4,num_list))     #将列表中的所有函数加一\n",
    "print(a)"
   ]
  },
  {
   "cell_type": "markdown",
   "metadata": {},
   "source": [
    "#### 值得注意的是，这里的filter()、map()函数返回的都是迭代器， 不能直接读取 ，需要使用list进行转换。"
   ]
  },
  {
   "cell_type": "markdown",
   "metadata": {},
   "source": [
    "lambda函数还可以用于屏蔽某些库中的某个函数，以更灵活的进行编程。"
   ]
  },
  {
   "cell_type": "code",
   "execution_count": 66,
   "metadata": {},
   "outputs": [],
   "source": [
    "#在这里尝试filter() 、map() 结合lambda的用法，例如找出1-100内的所有的偶数、奇数，并将其逐一对应相乘。\n",
    "\n",
    "\n",
    "\n",
    "\n",
    "\n",
    "\n",
    "\n",
    "#################"
   ]
  }
 ],
 "metadata": {
  "kernelspec": {
   "display_name": "Python 3",
   "language": "python",
   "name": "python3"
  },
  "language_info": {
   "codemirror_mode": {
    "name": "ipython",
    "version": 3
   },
   "file_extension": ".py",
   "mimetype": "text/x-python",
   "name": "python",
   "nbconvert_exporter": "python",
   "pygments_lexer": "ipython3",
   "version": "3.6.5"
  }
 },
 "nbformat": 4,
 "nbformat_minor": 2
}
