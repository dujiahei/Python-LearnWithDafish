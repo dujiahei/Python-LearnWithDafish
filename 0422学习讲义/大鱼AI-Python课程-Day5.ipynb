{
 "cells": [
  {
   "cell_type": "markdown",
   "metadata": {},
   "source": [
    "# 大鱼AI-Python课程-Day5"
   ]
  },
  {
   "cell_type": "markdown",
   "metadata": {},
   "source": [
    "我们已经学习了变量、循环判断语句、函数等等功能，足以在程序的内部实现一些有意思的小功能。然而大部分的数据分析和机器学习都需要与外部的数据进行交互，所以掌握文件的读写非常重要，乃是数据挖掘的基础。今天我们就来学习一下文件的读写方法。"
   ]
  },
  {
   "cell_type": "markdown",
   "metadata": {},
   "source": [
    "## 文件读写方式\n",
    "\n",
    "Python 提供了必要的函数和方法进行默认情况下的文件基本操作。你可以用 file 对象做大部分的文件操作。"
   ]
  },
  {
   "cell_type": "markdown",
   "metadata": {},
   "source": [
    "下面展示了两个案例，一个是创建文件并写入内容，一个是打开文件并读取内容，将下面的两个案例与后面的详细介绍对照着看有助于快速掌握和理解"
   ]
  },
  {
   "cell_type": "code",
   "execution_count": 3,
   "metadata": {},
   "outputs": [],
   "source": [
    "#我们来直接看一个案例， 创建test.txt文件并写入一句话\n",
    "file = open('test.txt', 'w')   # 以写入模式创建/打开文件\n",
    "file.write('Hello world')      # 写入一句话\n",
    "file.close()                   # 关闭文件，结束内存占用"
   ]
  },
  {
   "cell_type": "code",
   "execution_count": 4,
   "metadata": {},
   "outputs": [
    {
     "name": "stdout",
     "output_type": "stream",
     "text": [
      "Hello world\n"
     ]
    }
   ],
   "source": [
    "#打开刚才创建的文件看看是否生效\n",
    "file = open('test.txt', 'r')    #以读取模式打开文件\n",
    "content = file.read()           #读取文件里面的内容\n",
    "print(content)                  #打印内容"
   ]
  },
  {
   "cell_type": "markdown",
   "metadata": {},
   "source": [
    "如果要对文件进行操作，就要使用内置open()函数打开文件来创建一个file对象，然后使用这个对象的方法进行读写操作\n",
    "\n",
    "open的基本形式如下：\n",
    "\n",
    "object = open(文件名 [, 访问模式][,缓冲])\n",
    "\n",
    "文件名：文件名变量是一个包含了你要访问的文件名称的字符串值。\n",
    "\n",
    "访问模式：访问模式决定了打开文件的模式：只读，写入，追加等。所有可取值见如下的完全列表。这个参数是非强制的，默认文件访问模式为只读(r)。\n",
    "\n",
    "buffering:如果buffering的值被设为0，就不会有寄存。如果buffering的值取1，访问文件时会寄存行。如果将buffering的值设为大于1的整数，表明了这就是的寄存区的缓冲大小。如果取负值，寄存区的缓冲大小则为系统默认。\n"
   ]
  },
  {
   "cell_type": "markdown",
   "metadata": {},
   "source": [
    "- 在初期仅需要掌握5种访问模式即可\n",
    "- 'r' : 以只读方式打开文件。文件的指针将会放在文件的开头。这是默认模式。\n",
    "- 'rb': 以二进制格式打开一个文件用于只读。文件指针将会放在文件的开头。这是默认模式。一般用于非文本文件如图片等。\n",
    "- 'w' : 打开一个文件只用于写入。如果该文件已存在则打开文件，并从开头开始编辑，即原有内容会被删除。如果该文件不存在，创建新文件\n",
    "- 'wb': 以二进制格式打开一个文件只用于写入。如果该文件已存在则打开文件，并从开头开始编辑，即原有内容会被删除。如果该文件不存在，创建新文件。常用于非文本文件如图片等\n",
    "- 'a' : 打开一个文件用于追加。如果该文件已存在，文件指针将会放在文件的结尾。如果该文件不存在，创建新文件进行写入"
   ]
  },
  {
   "cell_type": "markdown",
   "metadata": {},
   "source": [
    "以下是所有读取模式，其它仅作了解即可"
   ]
  },
  {
   "cell_type": "markdown",
   "metadata": {},
   "source": [
    " 模式 |描述 \n",
    "  :---- | :----\n",
    " t | 文本模式 (这是默认模式)。 \n",
    " x |写模式，新建一个文件，如果该文件已存在则会报错。\n",
    " b |二进制模式。\n",
    "+|打开一个文件进行更新(可读可写)\n",
    "U|\t通用换行模式（不推荐）。\n",
    "r\t|以只读方式打开文件。文件的指针将会放在文件的开头。这是默认模式。\n",
    "rb\t|以二进制格式打开一个文件用于只读。文件指针将会放在文件的开头。这是默认模式。一般用于非文本文件如图片等。\n",
    "r+|\t打开一个文件用于读写。文件指针将会放在文件的开头。\n",
    "rb+|\t以二进制格式打开一个文件用于读写。文件指针将会放在文件的开头。一般用于非文本文件如图片等。\n",
    "w\t|打开一个文件只用于写入。如果该文件已存在则打开文件，并从开头开始编辑，即原有内容会被删除。如果该文件不存在，创建新文件。\n",
    "wb\t|以二进制格式打开一个文件只用于写入。如果该文件已存在则打开文件，并从开头开始编辑，即原有内容会被删除。如果该文件不存在，创建新文件。常用于非文本文件如图片等。\n",
    "w+|\t打开一个文件用于读写。如果该文件已存在则打开文件，并从开头开始编辑，即原有内容会被删除。如果该文件不存在，创建新文件。\n",
    "wb+|\t以二进制格式打开一个文件用于读写。如果该文件已存在则打开文件，并从开头开始编辑，即原有内容会被删除。如果该文件不存在，创建新文件。一般用于非文本文件如图片等。\n",
    "a\t|打开一个文件用于追加。如果该文件已存在，文件指针将会放在文件的结尾。如果该文件不存在，创建新文件进行写入。\n",
    "ab|\t以二进制格式打开一个文件用于追加。如果该文件已存在，文件指针将会放在文件的结尾。如果该文件不存在，创建新文件进行写入。\n",
    "a+\t|打开一个文件用于读写。如果该文件已存在，文件指针将会放在文件的结尾。文件打开时会是追加模式。如果该文件不存在，创建新文件用于读写。\n",
    "ab+|\t以二进制格式打开一个文件用于追加。如果该文件已存在，文件指针将会放在文件的结尾。如果该文件不存在，创建新文件用于读写。\n"
   ]
  },
  {
   "cell_type": "markdown",
   "metadata": {},
   "source": [
    "file的属性有（部分）\n",
    "\n",
    "|属性|描述|\n",
    "| ------ | ------ |\n",
    "|file.closed|返回true如果文件已被关闭，否则返回false。 |\n",
    "|file.mode|返回被打开文件的访问模式。 |\n",
    "|file.name|\t返回文件的名称。 |"
   ]
  },
  {
   "cell_type": "code",
   "execution_count": 9,
   "metadata": {},
   "outputs": [
    {
     "name": "stdout",
     "output_type": "stream",
     "text": [
      "文件已经关闭？False\n",
      "文件的访问模式是：rb+\n",
      "文件的名字是：./homework.txt\n"
     ]
    }
   ],
   "source": [
    "Dayu_file=open ('./homework.txt','rb+')\n",
    "print('文件已经关闭？{}'.format(Dayu_file.closed))\n",
    "print('文件的访问模式是：{}'.format(Dayu_file.mode))\n",
    "print('文件的名字是：{}'.format(Dayu_file.name))"
   ]
  },
  {
   "cell_type": "markdown",
   "metadata": {},
   "source": [
    "## 文件对象的操作方法"
   ]
  },
  {
   "cell_type": "markdown",
   "metadata": {},
   "source": [
    "### write()方法\n",
    "write()方法可将任何字符串写入一个打开的文件。需要重点注意的是，Python字符串可以是二进制数据，而不是仅仅是文字。\n",
    "\n",
    "write()方法不会在字符串的结尾添加换行符('\\n')："
   ]
  },
  {
   "cell_type": "code",
   "execution_count": 12,
   "metadata": {},
   "outputs": [],
   "source": [
    "Dayu_file = open(\"Dayu_file.txt\", \"w\")  #如果没有会新建\n",
    "Dayu_file.write( \"Dayu I Love\\r\\n\")\n",
    "Dayu_file.close()\n",
    "\n",
    "#看看目录下是不是多个了Dayu_file.txt文件？再看看它的内容。"
   ]
  },
  {
   "cell_type": "code",
   "execution_count": 19,
   "metadata": {},
   "outputs": [
    {
     "data": {
      "text/plain": [
       "'Dayu I Love\\n\\n'"
      ]
     },
     "execution_count": 19,
     "metadata": {},
     "output_type": "execute_result"
    }
   ],
   "source": [
    "Dayu_file = open(\"Dayu_file.txt\", \"r\")  \n",
    "Dayu_file.read()  #看看是不是刚刚写入的内容？ 注意这个方法在使用的时候可以传入参数，参数代表读取的字节数"
   ]
  },
  {
   "cell_type": "code",
   "execution_count": null,
   "metadata": {},
   "outputs": [],
   "source": [
    "##在这里尝试读取一个字节和两个字节\n",
    "\n",
    "\n",
    "\n",
    "#####################"
   ]
  },
  {
   "cell_type": "code",
   "execution_count": 21,
   "metadata": {},
   "outputs": [
    {
     "data": {
      "text/plain": [
       "14"
      ]
     },
     "execution_count": 21,
     "metadata": {},
     "output_type": "execute_result"
    }
   ],
   "source": [
    "Dayu_file.read(1)\n",
    "Dayu_file.tell()"
   ]
  },
  {
   "cell_type": "markdown",
   "metadata": {},
   "source": [
    "## OS模块\n",
    "\n",
    "Python的os模块提供了帮你执行文件处理操作的方法，比如重命名和删除文件、创建目录。"
   ]
  },
  {
   "cell_type": "code",
   "execution_count": 7,
   "metadata": {},
   "outputs": [],
   "source": [
    "import os  #这个函数是导入\n",
    "\n",
    "Dayu_file = open(\"./Dayu_file_name_1.txt\", \"wb\")  #先新建一个空文件然后重命名  查看目录下是否出现了这个文件Dayu_file_name_1.txt\n",
    "Dayu_file.close()"
   ]
  },
  {
   "cell_type": "code",
   "execution_count": 8,
   "metadata": {},
   "outputs": [],
   "source": [
    "os.rename(\"Dayu_file_name_1.txt\",\"Dayu_file_name_2.txt\")  #查看文件名是否发生了变化"
   ]
  },
  {
   "cell_type": "code",
   "execution_count": 9,
   "metadata": {},
   "outputs": [],
   "source": [
    "os.remove(\"Dayu_file_name_2.txt\") #查看Dayu_file_name_2.txt是否已经被删除"
   ]
  },
  {
   "cell_type": "code",
   "execution_count": 34,
   "metadata": {},
   "outputs": [],
   "source": [
    "os.mkdir('我爱大鱼')  #创建目录"
   ]
  },
  {
   "cell_type": "code",
   "execution_count": 36,
   "metadata": {},
   "outputs": [],
   "source": [
    "os.rmdir('我爱大鱼')   #删除目录"
   ]
  },
  {
   "cell_type": "code",
   "execution_count": 38,
   "metadata": {},
   "outputs": [
    {
     "data": {
      "text/plain": [
       "'C:\\\\Users\\\\49395\\\\Python-GoogleCourse-master\\\\Day5'"
      ]
     },
     "execution_count": 38,
     "metadata": {},
     "output_type": "execute_result"
    }
   ],
   "source": [
    "os.getcwd()  #显示当前工作目录"
   ]
  },
  {
   "cell_type": "code",
   "execution_count": null,
   "metadata": {},
   "outputs": [],
   "source": [
    "os.chdir('')  #更改当前目录"
   ]
  }
 ],
 "metadata": {
  "kernelspec": {
   "display_name": "Python 3",
   "language": "python",
   "name": "python3"
  },
  "language_info": {
   "codemirror_mode": {
    "name": "ipython",
    "version": 3
   },
   "file_extension": ".py",
   "mimetype": "text/x-python",
   "name": "python",
   "nbconvert_exporter": "python",
   "pygments_lexer": "ipython3",
   "version": "3.6.5"
  }
 },
 "nbformat": 4,
 "nbformat_minor": 2
}
