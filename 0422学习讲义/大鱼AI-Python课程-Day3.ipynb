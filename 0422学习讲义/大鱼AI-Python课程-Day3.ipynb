{
 "cells": [
  {
   "cell_type": "markdown",
   "metadata": {},
   "source": [
    "# Day3"
   ]
  },
  {
   "cell_type": "markdown",
   "metadata": {},
   "source": [
    "昨天我们学习了列表、元组、成员运算符等内容。\n",
    "\n",
    "今天我们将继续介绍另外两种变量类型：dict 字典,set集合,判断语句,三目判断语句，循环语句等"
   ]
  },
  {
   "cell_type": "markdown",
   "metadata": {},
   "source": [
    "## 1.dict 字典"
   ]
  },
  {
   "cell_type": "markdown",
   "metadata": {},
   "source": [
    "定义"
   ]
  },
  {
   "cell_type": "markdown",
   "metadata": {},
   "source": [
    "字典是另一种可变容器模型，且可存储任意类型对象。\n",
    "\n",
    "字典的每个键值 key=>value 对用冒号 : 分割，每个键值对之间用逗号 , 分割，整个字典包括在花括号 {} 中 ,格式如下所示："
   ]
  },
  {
   "cell_type": "markdown",
   "metadata": {},
   "source": [
    "dict = {key1 : value1, key2 : value2}"
   ]
  },
  {
   "cell_type": "markdown",
   "metadata": {},
   "source": [
    "值可以取任何数据类型，但键必须是不可变的;\n",
    "\n",
    "同一个键如果被赋值两次，那么只会保留最后一次赋值的结果。"
   ]
  },
  {
   "cell_type": "markdown",
   "metadata": {},
   "source": [
    "创建"
   ]
  },
  {
   "cell_type": "code",
   "execution_count": null,
   "metadata": {},
   "outputs": [],
   "source": [
    "Dayu_dict = {'元旦节':'1月1日','春分':'3月25日','夏至':'6月21日','秋分':'9月23日','冬至':'12月22日'}"
   ]
  },
  {
   "cell_type": "code",
   "execution_count": null,
   "metadata": {},
   "outputs": [],
   "source": [
    "print(Dayu_dict)"
   ]
  },
  {
   "cell_type": "markdown",
   "metadata": {},
   "source": [
    "访问字典的值"
   ]
  },
  {
   "cell_type": "code",
   "execution_count": null,
   "metadata": {},
   "outputs": [],
   "source": [
    "print(Dayu_dict['元旦节'])"
   ]
  },
  {
   "cell_type": "markdown",
   "metadata": {},
   "source": [
    "往字典里添加值"
   ]
  },
  {
   "cell_type": "code",
   "execution_count": null,
   "metadata": {},
   "outputs": [],
   "source": [
    "Dayu_dict={'食物':'香蕉','电子设备':'电脑'}\n",
    "\n",
    "print(Dayu_dict)\n",
    "\n",
    "Dayu_dict['服装']='上衣'  #服装不在字典里，所以会新建\n",
    "\n",
    "print(Dayu_dict)"
   ]
  },
  {
   "cell_type": "markdown",
   "metadata": {},
   "source": [
    "修改字典里的值"
   ]
  },
  {
   "cell_type": "code",
   "execution_count": null,
   "metadata": {},
   "outputs": [],
   "source": [
    "Dayu_dict={'食物':'香蕉','电子设备':'电脑'}\n",
    "\n",
    "print(Dayu_dict)\n",
    "\n",
    "Dayu_dict['食物']='水果' #食物在字典里，所以会修改\n",
    "\n",
    "print(Dayu_dict)"
   ]
  },
  {
   "cell_type": "markdown",
   "metadata": {},
   "source": [
    "字典的删除"
   ]
  },
  {
   "cell_type": "code",
   "execution_count": null,
   "metadata": {},
   "outputs": [],
   "source": [
    "Dayu_dict={'食物':'香蕉','电子设备':'电脑'}\n",
    "print(Dayu_dict)\n",
    "print()\n",
    "del(Dayu_dict['食物'])   #使用del可以删除某一对键值a\n",
    "print('输出后只剩下')\n",
    "print(Dayu_dict)\n",
    "\n",
    "Dayu_dict.clear()#将字典清空\n",
    "print('清空后的输出为')\n",
    "print(Dayu_dict)\n",
    "\n",
    "del(Dayu_dict)    #将字典彻底删除\n",
    "print(Dajyu_dict)  #字典不存在，输出报错！"
   ]
  },
  {
   "cell_type": "markdown",
   "metadata": {},
   "source": [
    "字典的常用方法"
   ]
  },
  {
   "cell_type": "code",
   "execution_count": null,
   "metadata": {},
   "outputs": [],
   "source": [
    "Dayu_dict.clear() #将字典清空\n",
    "Dayu_dict.keys()  #返回字典的键\n",
    "Dayu_dict.values() #返回字典的值\n",
    "Dayu_dict.items() #返回字典的键对数据，以列表的形式返回"
   ]
  },
  {
   "cell_type": "markdown",
   "metadata": {},
   "source": [
    "建立一个自己的字典，对自己喜欢的物品进行分类，尝试上述操作"
   ]
  },
  {
   "cell_type": "code",
   "execution_count": null,
   "metadata": {},
   "outputs": [],
   "source": [
    "##################\n",
    "#在这里输入你的代码\n",
    "\n",
    "\n",
    "\n",
    "\n",
    "##################"
   ]
  },
  {
   "cell_type": "markdown",
   "metadata": {},
   "source": [
    "## 2.set集合"
   ]
  },
  {
   "cell_type": "markdown",
   "metadata": {},
   "source": [
    "集合（set）是一个无序的不重复元素序列。\n",
    "\n",
    "集合是无序的，不可重复的数据集合，集合里面的每个元素必须是可哈希的（不可变的数据类型），但是集合是不可哈希的，所以集合做不了字典的键\n",
    "\n",
    "集合的创建方式有两种：\n",
    "\n",
    "    通过set()创建集合，格式 ：集合名字=set(对象)，该对象可以是任意的数据类型，但是对象里面的每个元素必须是不可变的数据类型，是可以hash的\n",
    "\n",
    "    通过{}创建　　"
   ]
  },
  {
   "cell_type": "code",
   "execution_count": null,
   "metadata": {},
   "outputs": [],
   "source": [
    "#请看范例\n",
    "set_Dayu={'我爱大鱼','我爱小鱼','我爱大鱼'}\n",
    "\n",
    "print(set_Dayu) #输出为{'我爱小鱼', '我爱大鱼'}"
   ]
  },
  {
   "cell_type": "markdown",
   "metadata": {},
   "source": [
    "注意到了吗， set_1在建立的时候有两个‘我爱大鱼’，但是其输出结果只有一个 '我爱大鱼'，这正是集合的一个特性，集合是一个不重复元素序列，在创建的时候会自动将重复序列“删除”。"
   ]
  },
  {
   "cell_type": "markdown",
   "metadata": {},
   "source": [
    "### 集合的常用方法\n",
    "\n",
    "集合的增"
   ]
  },
  {
   "cell_type": "code",
   "execution_count": null,
   "metadata": {},
   "outputs": [],
   "source": [
    "#初始化集合\n",
    "set_Dayu={'我爱大鱼','我爱小鱼','我爱大鱼'}\n",
    "\n",
    "#第一种方式通过add\n",
    "set_Dayu.add('大鱼')\n",
    "print(set_Dayu)\n",
    "\n",
    "#第二种方式通过update\n",
    "set_Dayu.update('大鱼AI') #注意到了吗，如果添加的元素里可以迭代，那么它就会将其迭代添加\n",
    "print(set_Dayu)"
   ]
  },
  {
   "cell_type": "markdown",
   "metadata": {},
   "source": [
    "集合的删"
   ]
  },
  {
   "cell_type": "code",
   "execution_count": null,
   "metadata": {},
   "outputs": [],
   "source": [
    "# 删除指定的元素,如果删除的元素不存在，则会报错\n",
    "set_Dayu={'I','Love','Dayu','AI'}\n",
    "\n",
    "set_Dayu.remove('Love')\n",
    "print(set_Dayu)   \n",
    "\n",
    "#随机删除集合的某一个元素\n",
    "set_Dayu.pop()\n",
    "print(set_Dayu)  \n",
    "\n",
    "#清空集合\n",
    "set_Dayu.clear()\n",
    "print(set_Dayu)"
   ]
  },
  {
   "cell_type": "markdown",
   "metadata": {},
   "source": [
    "集合的交集"
   ]
  },
  {
   "cell_type": "code",
   "execution_count": null,
   "metadata": {},
   "outputs": [],
   "source": [
    "set_Dayu={'I','Love','Dayu','AI'}\n",
    "set_Xiaoyu={'I','like','Dayu','AI'}\n",
    "set_3=set_Dayu&set_Xiaoyu  #或者 set_3=set_Dayu.intersection(set_Xiaoyu)\n",
    "print('交集的结果{}'.format(set_3))"
   ]
  },
  {
   "cell_type": "markdown",
   "metadata": {},
   "source": [
    "集合的并集"
   ]
  },
  {
   "cell_type": "code",
   "execution_count": null,
   "metadata": {},
   "outputs": [],
   "source": [
    "set_Dayu={'I','Love','Dayu','AI'}\n",
    "set_Xiaoyu={'I','like','Dayu','AI'}\n",
    "set_3=set_Dayu|set_Xiaoyu  #或者 set_3=set_Dayu.union(set_Xiaoyu)\n",
    "print('并集的结果{}'.format(set_3))"
   ]
  },
  {
   "cell_type": "markdown",
   "metadata": {},
   "source": [
    "集合的差集"
   ]
  },
  {
   "cell_type": "code",
   "execution_count": null,
   "metadata": {},
   "outputs": [],
   "source": [
    "set_Dayu={'I','Love','Dayu','AI'}\n",
    "set_Xiaoyu={'I','like','Dayu','AI'}\n",
    "set_3=set_Dayu-set_Xiaoyu  #或者 set_3=set_Dayu.difference(set_Xiaoyu)\n",
    "print('差集的结果{}'.format(set_3))"
   ]
  },
  {
   "cell_type": "markdown",
   "metadata": {},
   "source": [
    "集合的反交集"
   ]
  },
  {
   "cell_type": "code",
   "execution_count": null,
   "metadata": {},
   "outputs": [],
   "source": [
    "set_Dayu={'I','Love','Dayu','AI'}\n",
    "set_Xiaoyu={'I','like','Dayu','AI'}\n",
    "set_3=set_Dayu^set_Xiaoyu  #或者 set_3=set_Dayu.symmetric_difference(set_Xiaoyu)\n",
    "print('反交集的结果{}'.format(set_3))"
   ]
  },
  {
   "cell_type": "markdown",
   "metadata": {},
   "source": [
    "子集、超集判断"
   ]
  },
  {
   "cell_type": "code",
   "execution_count": null,
   "metadata": {},
   "outputs": [],
   "source": [
    "set_Dayu={'I','Love','Dayu','AI'}\n",
    "set_Xiaoyu={'Dayu','AI'}\n",
    "\n",
    "print('大鱼集合 是 小鱼集合的子集吗？{}'.format(set_Dayu < set_Xiaoyu))\n",
    "print('大鱼集合 是 小鱼集合的子集吗？{}'.format(set_Dayu.issubset(set_Xiaoyu))) \n",
    "\n",
    "print('大鱼集合 是 小鱼集合的超集吗？{}'.format(set_Dayu > set_Xiaoyu)) \n",
    "print('大鱼集合 是 小鱼集合的超集吗？{}'.format(set_Dayu.issuperset(set_Xiaoyu))) "
   ]
  },
  {
   "cell_type": "markdown",
   "metadata": {},
   "source": [
    "定义一个与自己专业相关的信息集合，并对其进行上述操作"
   ]
  },
  {
   "cell_type": "code",
   "execution_count": null,
   "metadata": {},
   "outputs": [],
   "source": [
    "##################\n",
    "#在这里输入你的代码\n",
    "\n",
    "\n",
    "\n",
    "\n",
    "##################"
   ]
  },
  {
   "cell_type": "markdown",
   "metadata": {},
   "source": [
    "## 3.判断语句（要求掌握多条件判断）"
   ]
  },
  {
   "cell_type": "markdown",
   "metadata": {},
   "source": [
    "Python程序语言指定任何非0和非空（null）值为true，0 或者 null为false。\n",
    "\n",
    "Python 编程中 if 语句用于控制程序的执行，基本形式为："
   ]
  },
  {
   "cell_type": "markdown",
   "metadata": {},
   "source": [
    "if 判断条件：\n",
    "\n",
    "    执行语句\n",
    "\n",
    "else:\n",
    "    \n",
    "    执行语句"
   ]
  },
  {
   "cell_type": "markdown",
   "metadata": {},
   "source": [
    "先来一个简单的实例"
   ]
  },
  {
   "cell_type": "code",
   "execution_count": null,
   "metadata": {},
   "outputs": [],
   "source": [
    "string='我爱大鱼AI'\n",
    "string2='我喜欢大鱼AI'\n",
    "if string2==string :\n",
    "    print('这两个句子是相同的')\n",
    "else:\n",
    "    print('“'+string +'”'+'和'+'“'+string2+ '”' +'这两个句子是不同的')  "
   ]
  },
  {
   "cell_type": "markdown",
   "metadata": {},
   "source": [
    "if 语句的判断条件可以用>（大于）、<(小于)、==（等于）、>=（大于等于）、<=（小于等于）来表示其关系。\n",
    "\n",
    "当判断条件为多个值时，可以使用以下形式："
   ]
  },
  {
   "cell_type": "markdown",
   "metadata": {},
   "source": [
    "if 判断条件：\n",
    "\n",
    "    执行语句\n",
    "elif:\n",
    "\n",
    "    执行语句\n",
    "\n",
    "elif:\n",
    "\n",
    "    执行语句\n",
    "elif:\n",
    "\n",
    "    执行语句"
   ]
  },
  {
   "cell_type": "markdown",
   "metadata": {},
   "source": [
    "举例子"
   ]
  },
  {
   "cell_type": "code",
   "execution_count": null,
   "metadata": {},
   "outputs": [],
   "source": [
    "number=2\n",
    "if number==0:\n",
    "    print ('数字是0')\n",
    "elif number==1:\n",
    "    print('数字是1')\n",
    "elif number ==2:\n",
    "    print('数字是2')"
   ]
  },
  {
   "cell_type": "markdown",
   "metadata": {},
   "source": [
    "做一个猜数字的游戏，通过不断分支判断最终猜出数字"
   ]
  },
  {
   "cell_type": "code",
   "execution_count": null,
   "metadata": {},
   "outputs": [],
   "source": [
    "##################\n",
    "#在这里输入你的代码\n",
    "\n",
    "\n",
    "\n",
    "\n",
    "##################"
   ]
  },
  {
   "cell_type": "markdown",
   "metadata": {},
   "source": [
    "## 4. 三目表达式"
   ]
  },
  {
   "cell_type": "markdown",
   "metadata": {},
   "source": [
    "三目表达式格式如下：\n",
    "\n",
    "表达式1 if 判断语句 else 表达式2\n",
    "\n",
    "         ^若判断语句为真，则执行表达式1，否则执行表达式2"
   ]
  },
  {
   "cell_type": "code",
   "execution_count": null,
   "metadata": {},
   "outputs": [],
   "source": [
    "method_1='我爱'\n",
    "method_2='大鱼AI'\n",
    "result = method_1 if 1>0 else method_2\n",
    "print(result)\n",
    "\n",
    "#请修改判断语句以查看不同的输出结果"
   ]
  },
  {
   "cell_type": "markdown",
   "metadata": {},
   "source": [
    "## 5. 循环语句"
   ]
  },
  {
   "cell_type": "markdown",
   "metadata": {},
   "source": [
    "Python提供了两种循环，分别是for循环和while循环。\n",
    "\n",
    "### while的基本形式是\n",
    "\n"
   ]
  },
  {
   "cell_type": "markdown",
   "metadata": {},
   "source": [
    "    while(判断语句):\n",
    "\n",
    "        执行语句"
   ]
  },
  {
   "cell_type": "code",
   "execution_count": null,
   "metadata": {},
   "outputs": [],
   "source": [
    "count = 0\n",
    "while (count < 9):\n",
    "   print('The count is:{}'.format(count))\n",
    "   count = count + 1 \n",
    "print('循环结束，我爱大鱼AI')"
   ]
  },
  {
   "cell_type": "markdown",
   "metadata": {},
   "source": [
    "while循环可以设置else语句，当不满足条件时会执行一次。"
   ]
  },
  {
   "cell_type": "code",
   "execution_count": null,
   "metadata": {},
   "outputs": [],
   "source": [
    "count = 0\n",
    "while (count < 9):\n",
    "   print('The count is:{}'.format(count))\n",
    "   count = count + 1 \n",
    "else:\n",
    "    print('当前判断语句结果为否，我爱大鱼AI')\n",
    "    print('当前的count值为：{}'.format(count))"
   ]
  },
  {
   "cell_type": "markdown",
   "metadata": {},
   "source": [
    "如果进入了无限循环，可以使用Ctrl+C来跳出。"
   ]
  },
  {
   "cell_type": "markdown",
   "metadata": {},
   "source": [
    "### for的基本形式是\n",
    "\n",
    "    for 迭代变量 in 序列 :\n",
    "\n",
    "        执行语句\n",
    "        \n",
    "序列可以是任何可迭代的对象"
   ]
  },
  {
   "cell_type": "code",
   "execution_count": null,
   "metadata": {},
   "outputs": [],
   "source": [
    "#字符串\n",
    "for letter in '我爱大鱼AI':\n",
    "    print(letter)"
   ]
  },
  {
   "cell_type": "code",
   "execution_count": null,
   "metadata": {},
   "outputs": [],
   "source": [
    "#数字\n",
    "for n in range(1,5):\n",
    "    print(n)"
   ]
  },
  {
   "cell_type": "code",
   "execution_count": null,
   "metadata": {},
   "outputs": [],
   "source": [
    "#列表\n",
    "string=['我爱大鱼','大鱼AI最棒','小鱼AI']\n",
    "\n",
    "for string_var in string :\n",
    "    print(string_var)"
   ]
  },
  {
   "cell_type": "markdown",
   "metadata": {},
   "source": [
    "同样，for循环也可以添加else，这条语句会在循环 正常执行 完的情况下执行"
   ]
  },
  {
   "cell_type": "code",
   "execution_count": 5,
   "metadata": {},
   "outputs": [
    {
     "name": "stdout",
     "output_type": "stream",
     "text": [
      "我爱大鱼\n",
      "大鱼AI最棒\n",
      "小鱼AI\n",
      "执行结束了\n"
     ]
    }
   ],
   "source": [
    "#列表\n",
    "string=['我爱大鱼','大鱼AI最棒','小鱼AI']\n",
    "\n",
    "for string_var in string :\n",
    "    print(string_var)\n",
    "else:\n",
    "    print('执行结束了')"
   ]
  },
  {
   "cell_type": "markdown",
   "metadata": {},
   "source": [
    "### 循环控制语句\n",
    "\n",
    "    break ：在语句块执行过程中终止循环，并且跳出整个循环\n",
    "\n",
    "    continue：在语句块执行过程中终止当前循环，跳出该次循环，执行下一次循环。\n",
    "\n",
    "    pass :这是空语句，是为了保持程序结构的完整性。在空循环的情况下使用\n",
    "\n",
    "    注意区分break和continue的区别。"
   ]
  },
  {
   "cell_type": "code",
   "execution_count": 3,
   "metadata": {},
   "outputs": [
    {
     "name": "stdout",
     "output_type": "stream",
     "text": [
      "3\n"
     ]
    }
   ],
   "source": [
    "count=0\n",
    "while count<5: \n",
    "    if count ==3 :\n",
    "        break  #当count到5的时候，跳出循环\n",
    "    count+=1;\n",
    "print(count)  #输出当前count值"
   ]
  },
  {
   "cell_type": "code",
   "execution_count": 2,
   "metadata": {},
   "outputs": [
    {
     "name": "stdout",
     "output_type": "stream",
     "text": [
      "1\n",
      "2\n",
      "4\n",
      "5\n"
     ]
    }
   ],
   "source": [
    "count=0\n",
    "while count<5: \n",
    "    count+=1;\n",
    "    if count ==3 :\n",
    "        continue  #当count到5的时候，继续循环\n",
    "    print(count)\n",
    "#注意count的数值有什么变化"
   ]
  },
  {
   "cell_type": "markdown",
   "metadata": {},
   "source": [
    "pass 一般用于维护程序结构的完整性\n",
    "   \n",
    "       用于没有执行内容的情况下"
   ]
  },
  {
   "cell_type": "code",
   "execution_count": 4,
   "metadata": {},
   "outputs": [],
   "source": [
    "count=0\n",
    "while count!=0: \n",
    "    pass"
   ]
  },
  {
   "cell_type": "markdown",
   "metadata": {},
   "source": [
    "设置一个循环，尝试在遍历1到100的情况下，计算1到100中奇数的和。"
   ]
  },
  {
   "cell_type": "markdown",
   "metadata": {},
   "source": [
    "## 如果代码卡死，请点击 Kernel -> Restart"
   ]
  },
  {
   "cell_type": "code",
   "execution_count": null,
   "metadata": {},
   "outputs": [],
   "source": [
    "##################\n",
    "#在这里输入你的代码\n",
    "\n",
    "\n",
    "\n",
    "\n",
    "##################"
   ]
  }
 ],
 "metadata": {
  "kernelspec": {
   "display_name": "Python 3",
   "language": "python",
   "name": "python3"
  },
  "language_info": {
   "codemirror_mode": {
    "name": "ipython",
    "version": 3
   },
   "file_extension": ".py",
   "mimetype": "text/x-python",
   "name": "python",
   "nbconvert_exporter": "python",
   "pygments_lexer": "ipython3",
   "version": "3.6.4"
  }
 },
 "nbformat": 4,
 "nbformat_minor": 2
}
