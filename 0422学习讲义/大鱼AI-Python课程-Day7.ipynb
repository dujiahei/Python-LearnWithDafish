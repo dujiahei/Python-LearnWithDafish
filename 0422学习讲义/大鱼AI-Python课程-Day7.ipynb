{
 "cells": [
  {
   "cell_type": "markdown",
   "metadata": {},
   "source": [
    "# 大鱼AI训练营Python课程-Day7"
   ]
  },
  {
   "cell_type": "markdown",
   "metadata": {},
   "source": [
    "终于迎来了最后一天的学习，在一个数据挖掘的项目中，80%的时间会被用在数据清洗和预处理中，剩下的20%才是设计模型运行调参等等。熟练掌握数据清洗技巧将会大大节省你的时间，该技巧也就是我们今天要学习的正则表达式"
   ]
  },
  {
   "cell_type": "markdown",
   "metadata": {},
   "source": [
    "# 正则表达式"
   ]
  },
  {
   "cell_type": "markdown",
   "metadata": {},
   "source": [
    "正则表达式是一种用来匹配字符串的强有力的武器。它的设计思想是用一种描述性的语言来给字符串定义一个规则，凡是符合规则的字符串，我们就认为它“匹配”了，否则，该字符串就是不合法的。"
   ]
  },
  {
   "cell_type": "markdown",
   "metadata": {},
   "source": [
    "我们在注册账号的时候经常会看到网站对账号名称有一定要求，比如不能用数字开头，比如字数要达到一定数量等等  \n",
    "这其实就是用正则表达式实现的  \n",
    "然而正则表达式还经常用在数据清洗和提取中，即根据一定的规则从纷乱的文本中提取我们所需要的内容  \n",
    "其通常步骤是：  \n",
    "- 创建一个匹配文本的正则表达式  \n",
    "- 用该正则表达式去匹配文本的内容  "
   ]
  },
  {
   "cell_type": "markdown",
   "metadata": {},
   "source": [
    "因为正则表达式也是用字符串表示的，所以，我们要首先了解如何用字符来描述字符。例如\\d在正则表达式中可以表示一个数字等等"
   ]
  },
  {
   "cell_type": "markdown",
   "metadata": {},
   "source": [
    "**入门：单个字符匹配：**  \n",
    "\\d: 可以匹配一个数字  \n",
    "\\w: 可以匹配一个字母或数字  \n",
    "\\s: 匹配一个空格(包括Tab等空白符)  \n",
    "\\_: 可以匹配一个下划线  \n",
    ". : 可以匹配任意字符  \n",
    "**基础：要匹配不规则长度字符需借助其它关键字符：**  \n",
    "\\* : 表示任意个字符(包括0个)    贪婪匹配\n",
    "\\+ : 表示至少一个字符  \n",
    "? : 表示0个或1个字符  \n",
    "{n}: 表示n个字符  \n",
    "{n, m}: 表示n-m个字符  \n",
    "**进阶：精确匹配**  \n",
    "[0-9]: 匹配0-9之间的一个数字，如果是[2-5]则匹配2-5之间的数字  \n",
    "[a-z]: 匹配a-z之间的一个小写字母  \n",
    "[小鱼儿]: 匹配这三个字符串的其中一个  \n",
    "A|B : 表示可以匹配A或B, '(大|小)鱼儿'可以匹配'大鱼儿'或者'小鱼儿'  \n",
    "^：表示行的开头， 即^\\d表示必须以数字开头  \n",
    "$：表示行的结束，\\d&表示必须以数字结束  "
   ]
  },
  {
   "cell_type": "markdown",
   "metadata": {},
   "source": [
    "注意：到我们上面的许多匹配规则是以斜杠\\\\开头的，而这与python中固有的字符串关键字\\\\n，\\\\r等矛盾，所以在正则匹配规则前最好加上 **r** 的前缀，就不用考虑转义的问题"
   ]
  },
  {
   "cell_type": "code",
   "execution_count": null,
   "metadata": {},
   "outputs": [],
   "source": [
    "import re    #导入正则表达式所需要的库"
   ]
  },
  {
   "cell_type": "markdown",
   "metadata": {},
   "source": [
    "## 匹配：re.match()"
   ]
  },
  {
   "cell_type": "code",
   "execution_count": null,
   "metadata": {},
   "outputs": [],
   "source": [
    "text_to_match = '小鱼001'                # 待匹配的文本\n",
    "text_to_match2 = '小狗001'\n",
    "pattern = r'.[鱼].*'                     #匹配任意带有鱼的字符串\n",
    "print(re.match(pattern, text_to_match))  #若匹配成功则返回匹配项\n",
    "print(re.match(pattern, text_to_match2)) #如果匹配失败返回None"
   ]
  },
  {
   "cell_type": "markdown",
   "metadata": {},
   "source": [
    "## 切分：re.split()"
   ]
  },
  {
   "cell_type": "code",
   "execution_count": null,
   "metadata": {},
   "outputs": [],
   "source": [
    "text_to_split = '小鱼儿 小狗子   小灰狼'\n",
    "print(text_to_split.split(' '))    # 字符串的默认split方法"
   ]
  },
  {
   "cell_type": "code",
   "execution_count": null,
   "metadata": {},
   "outputs": [],
   "source": [
    "print(re.split(r'\\s+', text_to_split)) #利用正则切分，注意\\s代表空格，\\s+代表可以是多个空格但至少有一个"
   ]
  },
  {
   "cell_type": "code",
   "execution_count": null,
   "metadata": {},
   "outputs": [],
   "source": [
    "# 只是用空格切分是很幸运的，实际项目中会有各种各样的妖孽，比如各种符号\n",
    "text_to_split2 = '小鱼儿,, 小狗子,,,   小灰狼 小白鼠'\n",
    "print(re.split(r'[\\s\\,]+', text_to_split2))"
   ]
  },
  {
   "cell_type": "markdown",
   "metadata": {},
   "source": [
    "## 分组提取： groups()"
   ]
  },
  {
   "cell_type": "code",
   "execution_count": null,
   "metadata": {},
   "outputs": [],
   "source": [
    "#构造两个混乱的字符串，要求提取出他们的姓名、年龄和性别\n",
    "text_to_extract = '姓名：小鱼，   年龄：8， 性别：女'\n",
    "text_to_extract2 = '姓名：小狗子，  年龄：12，        性别：男'\n",
    "\n",
    "pattern = r'姓名：(.+)，\\s+年龄：(\\d{0,2})，\\s+性别：(.)'\n",
    "match = re.match(pattern, text_to_extract)\n",
    "match2 = re.match(pattern, text_to_extract2)"
   ]
  },
  {
   "cell_type": "code",
   "execution_count": null,
   "metadata": {},
   "outputs": [],
   "source": [
    "#利用groups()函数看看我们提取了什么东西\n",
    "group1 = match.groups()\n",
    "group2 = match2.groups()\n",
    "print(group1)\n",
    "print(group2)"
   ]
  },
  {
   "cell_type": "code",
   "execution_count": null,
   "metadata": {},
   "outputs": [],
   "source": [
    "# 利用正则提取的内容形成规范的信息结构\n",
    "print('大家好，我叫{name}，今年{age}岁，是个{gender}孩子'.format(\n",
    "    name = group1[0], age = group1[1], gender = group1[2]))\n",
    "\n",
    "print('大家好，我叫{name}，今年{age}岁，是个{gender}孩子'.format(\n",
    "    name = group2[0], age = group2[1], gender = group2[2]))"
   ]
  },
  {
   "cell_type": "markdown",
   "metadata": {},
   "source": [
    "### 练手：邮箱匹配的正则表达式  \n",
    "我们知道在创建邮箱或者游戏昵称的时候有各种各样的命名规则，这个命名规则其实就是通过正则匹配判断是否有效的噢  \n",
    "**接下来我们将实现一个163邮箱账号注册，看看是否符合**  \n",
    "163邮箱的命名规则：\n",
    "- 6~18个字符  \n",
    "- 可使用字母、数字、下划线  \n",
    "- 需以字母开头  "
   ]
  },
  {
   "cell_type": "code",
   "execution_count": null,
   "metadata": {},
   "outputs": [],
   "source": [
    "account = input('请输入您想申请的163邮箱账户名:\\n')\n",
    "pattern = None #补充邮箱的正则表达式，答案在当天打卡内容中揭晓\n",
    "if re.match(pattern, account):\n",
    "    print('您的邮箱名字合法,已注册成功')\n",
    "else:\n",
    "    print('您的邮箱名字不合法，请重新输入')"
   ]
  },
  {
   "cell_type": "code",
   "execution_count": null,
   "metadata": {},
   "outputs": [],
   "source": [
    "r'^[a-zA-Z]\\w{5,17}@163.com'"
   ]
  },
  {
   "cell_type": "markdown",
   "metadata": {},
   "source": [
    "# Request"
   ]
  },
  {
   "cell_type": "markdown",
   "metadata": {},
   "source": [
    "这里我们以爬取网页内容为例展示一下正则表达式的应用实例，这里仅展示了最简单的网页爬取方式，然其实数据爬取是一个非常庞杂的内容，通常需要一门大的课程才能讲完"
   ]
  },
  {
   "cell_type": "markdown",
   "metadata": {},
   "source": [
    "这里我们以爬取豆瓣电影排行榜为例，其网址是“ttps://movie.douban.com/chart  \n",
    "在开始前请先打开看看网页长什么样  \n",
    "我们的任务仅仅是爬取在排行榜上的电影名称即可  "
   ]
  },
  {
   "cell_type": "code",
   "execution_count": null,
   "metadata": {},
   "outputs": [],
   "source": [
    "import requests    #导入requests库用来爬取数据，如果报错则在命令行中输入 pip install requests\n",
    "import re"
   ]
  },
  {
   "cell_type": "code",
   "execution_count": null,
   "metadata": {},
   "outputs": [],
   "source": [
    "respond = requests.get('https://movie.douban.com/chart')    # 利用get请求直接访问网页\n",
    "content = str(respond.content.decode())                     # 查看网页源码\n",
    "print(content)   #建议打开网页查看源码更清晰                # 打印源码（直接在浏览器中查看其实更直观，这里只是看看我们是否访问成功）"
   ]
  },
  {
   "cell_type": "markdown",
   "metadata": {},
   "source": [
    "以海王和疯狂的外星人为例我们看看包含title的内容长什么样子  \n",
    "a class=\"nbg\" href=\"https://movie.douban.com/subject/3878007/\"  title=\"海王\"    \n",
    "a class=\"nbg\" href=\"https://movie.douban.com/subject/25986662/\"  title=\"疯狂的外星人\"  \n",
    " "
   ]
  },
  {
   "cell_type": "code",
   "execution_count": null,
   "metadata": {},
   "outputs": [],
   "source": [
    "# 构造正则匹配表达式\n",
    "pattern = r'.*<a class=\"nbg\" href=\"https://movie.douban.com/subject/\\d+/\"  title=(.+)>.*'"
   ]
  },
  {
   "cell_type": "code",
   "execution_count": null,
   "metadata": {},
   "outputs": [],
   "source": [
    "print(re.findall(pattern, content))    # re.findall用法类似re.match，但是会匹配所有符合条件内容"
   ]
  },
  {
   "cell_type": "code",
   "execution_count": null,
   "metadata": {},
   "outputs": [],
   "source": [
    "###########Test  Zone###########\n",
    "#根据我们学过的正则表达式、文件写入、request访问来爬取一下网页源码内容并写入到txt文档中吧\n",
    "\n",
    "\n",
    "\n",
    "\n",
    "\n",
    "\n",
    "\n",
    "\n",
    "\n",
    "\n",
    "######################################"
   ]
  }
 ],
 "metadata": {
  "kernelspec": {
   "display_name": "Python 3",
   "language": "python",
   "name": "python3"
  },
  "language_info": {
   "codemirror_mode": {
    "name": "ipython",
    "version": 3
   },
   "file_extension": ".py",
   "mimetype": "text/x-python",
   "name": "python",
   "nbconvert_exporter": "python",
   "pygments_lexer": "ipython3",
   "version": "3.6.4"
  }
 },
 "nbformat": 4,
 "nbformat_minor": 2
}
