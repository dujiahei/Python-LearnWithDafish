{
 "cells": [
  {
   "cell_type": "markdown",
   "metadata": {},
   "source": [
    "1. 请对方输入一个0-9之间的数字（整数），进行检查，若不是数字提示：您输入的不是数字，请输入0-9间的数字，若数字不在0-9范围内，提示用户输入0-9之间的数字，直至用户输入正确。"
   ]
  },
  {
   "cell_type": "code",
   "execution_count": 2,
   "metadata": {},
   "outputs": [
    {
     "name": "stdout",
     "output_type": "stream",
     "text": [
      "请输入一个0-9之间的整数: 12.12\n",
      "您输入的不是数字!!!\n",
      "请输入一个0-9之间的整数: 12\n",
      "数字不在0-9范围内!!!\n",
      "请输入一个0-9之间的整数: qw\n",
      "您输入的不是数字!!!\n",
      "请输入一个0-9之间的整数: 1\n",
      "输入正确!!!\n"
     ]
    }
   ],
   "source": [
    "while True:\n",
    "    num = input('请输入一个0-9之间的整数: ')\n",
    "    if not num.isdigit():\n",
    "        print('您输入的不是数字!!!')\n",
    "    elif 0 <= int(num) <=9:\n",
    "        print('输入正确!!!')\n",
    "        break\n",
    "    else:\n",
    "        print('数字不在0-9范围内!!!')"
   ]
  },
  {
   "cell_type": "markdown",
   "metadata": {},
   "source": [
    "2. 系统随机生成一个长度为3的数字列表，且列表中元素在0-9之间并且不相等。将用户输入与该列表进行比较，若为列表第一个元素，则荣获第一名，列表第二个元素，则荣获第二名，列表第三个名字，则荣获第三名，否则提示用户未得奖，输入1重新开始游戏，输入2则结束游戏（注意：每次游戏中列表中数字要求随机生成，每轮游戏都不相等）。"
   ]
  },
  {
   "cell_type": "code",
   "execution_count": 1,
   "metadata": {},
   "outputs": [
    {
     "name": "stdout",
     "output_type": "stream",
     "text": [
      "请输入一个0-9之间的整数: 1\n",
      "用户未得奖！随机列表为： [0, 8, 2]\n",
      "是否继续游戏？（输入1重新开始游戏，输入2则结束游戏）1\n",
      "请输入一个0-9之间的整数: 2\n",
      "用户未得奖！随机列表为： [1, 7, 9]\n",
      "是否继续游戏？（输入1重新开始游戏，输入2则结束游戏）1\n",
      "请输入一个0-9之间的整数: 3\n",
      "用户未得奖！随机列表为： [4, 0, 8]\n",
      "是否继续游戏？（输入1重新开始游戏，输入2则结束游戏）1\n",
      "请输入一个0-9之间的整数: 4\n",
      "荣获第三名！随机列表为：[5, 8, 4]\n",
      "是否继续游戏？（输入1重新开始游戏，输入2则结束游戏）2\n",
      "游戏结束\n"
     ]
    }
   ],
   "source": [
    "import random\n",
    "\n",
    "flag = True  # 用于判断是否继续进行游戏\n",
    "while flag:\n",
    "    # 生成随机列表\n",
    "    nums = random.sample(range(0, 10), 3)\n",
    "    \n",
    "    # 获取用户输入\n",
    "    while True:\n",
    "        num = input('请输入一个0-9之间的整数: ')\n",
    "        if not num.isdigit():\n",
    "            print('您输入的不是数字，请重新输入！')\n",
    "        elif 0 <= int(num) <=9:\n",
    "            break\n",
    "        else:\n",
    "            print('数字不在0-9范围内，请重新输入！')\n",
    "            \n",
    "    # 判断获取几等奖\n",
    "    num = int(num)\n",
    "    if num in nums:\n",
    "        reward = ['一', '二', '三']\n",
    "        print('荣获第{}名！随机列表为：{}'.format(reward[nums.index(num)], nums))\n",
    "    else:\n",
    "        print('用户未得奖！随机列表为：', nums)\n",
    "        \n",
    "    # 获取用户输入，判断是否继续进行下一轮游戏\n",
    "    while True:\n",
    "        next_round = input('是否继续游戏？（输入1重新开始游戏，输入2则结束游戏）')\n",
    "        if next_round == '1':  # 继续\n",
    "            flag = True\n",
    "            break\n",
    "        elif next_round == '2':  # 结束\n",
    "            flag = False\n",
    "            break\n",
    "        else:\n",
    "            print('输入错误，请重新输入！')\n",
    "else:\n",
    "    print('游戏结束')"
   ]
  },
  {
   "cell_type": "code",
   "execution_count": null,
   "metadata": {},
   "outputs": [
    {
     "name": "stdout",
     "output_type": "stream",
     "text": [
      "按1开始，否则结束游戏！1\n",
      "请输入0-9的数字1\n",
      "[0, 1, 8]\n",
      "恭喜获得二等奖\n",
      "\n",
      "您输入的数字不在0-9的范围内！\n",
      "请输入0-9的数字1\n",
      "[0, 9, 6]\n",
      "很遗憾未中奖\n",
      "你想再来一次吗？输入1重新开始，否则结束游戏\n",
      "[8, 1, 3]\n",
      "恭喜获得二等奖\n",
      "\n",
      "您输入的数字不在0-9的范围内！\n",
      "请输入0-9的数字2\n",
      "[2, 6, 7]\n",
      "恭喜获得一等奖\n",
      "\n",
      "您输入的数字不在0-9的范围内！\n",
      "请输入0-9的数字2\n",
      "[0, 3, 5]\n",
      "很遗憾未中奖\n",
      "你想再来一次吗？输入1重新开始，否则结束游戏\n",
      "[2, 3, 7]\n",
      "恭喜获得一等奖\n",
      "\n",
      "您输入的数字不在0-9的范围内！\n",
      "请输入0-9的数字2\n",
      "[1, 3, 7]\n",
      "很遗憾未中奖\n",
      "你想再来一次吗？输入1重新开始，否则结束游戏\n",
      "[2, 3, 6]\n",
      "恭喜获得一等奖\n",
      "\n",
      "您输入的数字不在0-9的范围内！\n",
      "请输入0-9的数字2\n",
      "[8, 0, 1]\n",
      "很遗憾未中奖\n",
      "你想再来一次吗？输入1重新开始，否则结束游戏\n",
      "[2, 5, 6]\n",
      "恭喜获得一等奖\n",
      "\n",
      "您输入的数字不在0-9的范围内！\n",
      "请输入0-9的数字2\n",
      "[8, 2, 3]\n",
      "恭喜获得二等奖\n",
      "\n",
      "您输入的数字不在0-9的范围内！\n",
      "请输入0-9的数字2\n",
      "[8, 1, 2]\n",
      "恭喜获得三等奖\n",
      "\n",
      "您输入的数字不在0-9的范围内！\n"
     ]
    }
   ],
   "source": [
    "import random\n",
    "game=input('按1开始，否则结束游戏！')\n",
    "while int(game)==1:\n",
    "      num=input('请输入0-9的数字')\n",
    "      while num.isdigit()==True:\n",
    "            num1 = int(num)\n",
    "            while num1 in range(10):\n",
    "\n",
    "                  RaList = set()  # 生成随机的3个5不同集合（集合不会有重复数字出现）\n",
    "                  while len(RaList) < 3:\n",
    "                        RaList.add(random.randint(0, 9))\n",
    "                  RaList1 = list(RaList)  # 将set转换为list（因为set没有index）\n",
    "\n",
    "                  print(RaList1)\n",
    "\n",
    "                  if num1 == RaList1[0]:\n",
    "                        print('恭喜获得一等奖\\n')\n",
    "                        break\n",
    "                  elif num1 == RaList1[1]:\n",
    "                        print('恭喜获得二等奖\\n')\n",
    "                        break\n",
    "                  elif num1 == RaList1[2]:\n",
    "                        print('恭喜获得三等奖\\n')\n",
    "                        break\n",
    "                  else:\n",
    "                        print('很遗憾未中奖')\n",
    "                        print(\"你想再来一次吗？输入1重新开始，否则结束游戏\")\n",
    "                        while num1 not in RaList1:\n",
    "                              break\n",
    "                  while num1 not in range(10):\n",
    "                        break\n",
    "            while num.isdigit() == False:\n",
    "                  break\n",
    "            else:\n",
    "                  print('您输入的数字不在0-9的范围内！')\n",
    "                  break\n",
    "      else:\n",
    "            print('您输入的不是数字，请输入0-9的数字！')\n",
    "            continue\n",
    "else:\n",
    "      exit()"
   ]
  }
 ],
 "metadata": {
  "kernelspec": {
   "display_name": "Python 3",
   "language": "python",
   "name": "python3"
  },
  "language_info": {
   "codemirror_mode": {
    "name": "ipython",
    "version": 3
   },
   "file_extension": ".py",
   "mimetype": "text/x-python",
   "name": "python",
   "nbconvert_exporter": "python",
   "pygments_lexer": "ipython3",
   "version": "3.5.4"
  }
 },
 "nbformat": 4,
 "nbformat_minor": 2
}
