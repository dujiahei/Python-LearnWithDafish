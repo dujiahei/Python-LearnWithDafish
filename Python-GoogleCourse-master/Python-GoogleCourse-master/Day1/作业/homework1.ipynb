{
 "cells": [
  {
   "cell_type": "markdown",
   "metadata": {},
   "source": [
    "# 作业1"
   ]
  },
  {
   "cell_type": "markdown",
   "metadata": {},
   "source": [
    "要求用户依次输入姓名，性别，年龄，并对用户信息进行输出格式如下：您的姓名是：###，您的性别是：###，您是##年出生的。"
   ]
  },
  {
   "cell_type": "code",
   "execution_count": 4,
   "metadata": {},
   "outputs": [
    {
     "name": "stdout",
     "output_type": "stream",
     "text": [
      "欢迎来到python-GoogleCourse学习，下面让我认识一下你吧！\n",
      "您的姓名是：majingin\n",
      "您的性别是：famle\n",
      "您的年龄是：majingin\n"
     ]
    },
    {
     "ename": "ValueError",
     "evalue": "invalid literal for int() with base 10: 'majingin'",
     "output_type": "error",
     "traceback": [
      "\u001b[1;31m---------------------------------------------------------------------------\u001b[0m",
      "\u001b[1;31mValueError\u001b[0m                                Traceback (most recent call last)",
      "\u001b[1;32m<ipython-input-4-640128f6e8b0>\u001b[0m in \u001b[0;36m<module>\u001b[1;34m\u001b[0m\n\u001b[0;32m      4\u001b[0m \u001b[0mgender\u001b[0m \u001b[1;33m=\u001b[0m \u001b[0minput\u001b[0m\u001b[1;33m(\u001b[0m\u001b[1;34m\"您的性别是：\"\u001b[0m\u001b[1;33m)\u001b[0m\u001b[1;33m\u001b[0m\u001b[1;33m\u001b[0m\u001b[0m\n\u001b[0;32m      5\u001b[0m \u001b[0mage\u001b[0m \u001b[1;33m=\u001b[0m \u001b[0minput\u001b[0m\u001b[1;33m(\u001b[0m\u001b[1;34m\"您的年龄是：\"\u001b[0m\u001b[1;33m)\u001b[0m\u001b[1;33m\u001b[0m\u001b[1;33m\u001b[0m\u001b[0m\n\u001b[1;32m----> 6\u001b[1;33m \u001b[0mage\u001b[0m \u001b[1;33m=\u001b[0m \u001b[0mint\u001b[0m\u001b[1;33m(\u001b[0m\u001b[0mage\u001b[0m\u001b[1;33m)\u001b[0m\u001b[1;33m\u001b[0m\u001b[1;33m\u001b[0m\u001b[0m\n\u001b[0m\u001b[0;32m      7\u001b[0m \u001b[0myear\u001b[0m \u001b[1;33m=\u001b[0m \u001b[1;36m2019\u001b[0m\u001b[1;33m-\u001b[0m\u001b[0mage\u001b[0m\u001b[1;33m\u001b[0m\u001b[1;33m\u001b[0m\u001b[0m\n\u001b[0;32m      8\u001b[0m \u001b[0mprint\u001b[0m\u001b[1;33m(\u001b[0m\u001b[1;34m\"您的姓名是：%s，您的性别是：%s，您是%d年出生的，很高兴认识你\"\u001b[0m\u001b[1;33m%\u001b[0m\u001b[1;33m(\u001b[0m\u001b[0mname\u001b[0m\u001b[1;33m,\u001b[0m\u001b[0mgender\u001b[0m\u001b[1;33m,\u001b[0m\u001b[0myear\u001b[0m\u001b[1;33m)\u001b[0m\u001b[1;33m)\u001b[0m\u001b[1;33m\u001b[0m\u001b[1;33m\u001b[0m\u001b[0m\n",
      "\u001b[1;31mValueError\u001b[0m: invalid literal for int() with base 10: 'majingin'"
     ]
    }
   ],
   "source": [
    "print(\"欢迎来到python-GoogleCourse学习，下面让我认识一下你吧！\")\n",
    "#input() 函数接受一个标准输入数据，返回为 string 类型。\n",
    "name = input(\"您的姓名是：\")\n",
    "gender = input(\"您的性别是：\")\n",
    "age = input(\"您的年龄是：\")\n",
    "age = int(age)\n",
    "year = 2019-age\n",
    "print(\"您的姓名是：%s，您的性别是：%s，您是%d年出生的，很高兴认识你\"%(name,gender,year))"
   ]
  },
  {
   "cell_type": "code",
   "execution_count": 5,
   "metadata": {},
   "outputs": [
    {
     "name": "stdout",
     "output_type": "stream",
     "text": [
      "欢迎来到python-GoogleCourse学习，下面让我认识一下你吧！\n",
      "您的姓名是：majingmin\n",
      "您的性别是：Famle\n",
      "您的年龄是：majin\n",
      "输入有误，请输入数字，请根据提示重新输入：\n",
      "您的年龄是：aiofnfbd\n",
      "输入有误，请输入数字，请根据提示重新输入：\n",
      "您的年龄是：hucso\n",
      "输入有误，请输入数字，请根据提示重新输入：\n",
      "您的年龄是：34\n",
      "您的姓名是：majingmin，您的性别是：Famle，您是1995年出生的，很高兴认识你\n"
     ]
    }
   ],
   "source": [
    "print(\"欢迎来到python-GoogleCourse学习，下面让我认识一下你吧！\")\n",
    "name=input(\"您的姓名是：\")\n",
    "gender=input(\"您的性别是：\")\n",
    "while(True):\n",
    "    try:\n",
    "        age=int(input(\"您的年龄是：\"))\n",
    "        break\n",
    "    except ValueError:\n",
    "        print(\"输入有误，请输入数字，请根据提示重新输入：\")\n",
    "print(\"您的姓名是：%s，您的性别是：%s，您是%d年出生的，很高兴认识你\"%(name,gender,year))"
   ]
  },
  {
   "cell_type": "code",
   "execution_count": null,
   "metadata": {},
   "outputs": [
    {
     "name": "stdout",
     "output_type": "stream",
     "text": [
      "欢迎来到python-GoogleCourse学习，你是第1位参与者，下面让我认识一下你吧！\n",
      "您的姓名是：majingmin\n",
      "您的性别是：Famle\n",
      "您的年龄是：23\n",
      "欢迎来到python-GoogleCourse学习，你是第2位参与者，下面让我认识一下你吧！\n",
      "您的姓名是：Mary\n",
      "您的性别是：Famle\n",
      "您的年龄是：23\n",
      "欢迎来到python-GoogleCourse学习，你是第3位参与者，下面让我认识一下你吧！\n",
      "您的姓名是：Mark\n",
      "您的性别是：Male\n",
      "您的年龄是：34\n",
      "欢迎来到python-GoogleCourse学习，你是第4位参与者，下面让我认识一下你吧！\n"
     ]
    }
   ],
   "source": [
    "for i in range(10):\n",
    "    print(\"欢迎来到python-GoogleCourse学习，你是第%d位参与者，下面让我认识一下你吧！\"%(i+1))\n",
    "    name=input(\"您的姓名是：\")\n",
    "    gender=input(\"您的性别是：\")\n",
    "    while(True):\n",
    "        try:\n",
    "            age=int(input(\"您的年龄是：\"))\n",
    "            break\n",
    "        except ValueError:\n",
    "            print(\"输入有误，请输入数字，请根据提示重新输入：\")\n",
    "    line=name+' '+gender+' '+str(age)+'\\n'\n",
    "    with open(\"introduction.txt\",'a') as f:\n",
    "        f.write(line)"
   ]
  },
  {
   "cell_type": "code",
   "execution_count": null,
   "metadata": {},
   "outputs": [],
   "source": []
  }
 ],
 "metadata": {
  "kernelspec": {
   "display_name": "Python 3",
   "language": "python",
   "name": "python3"
  },
  "language_info": {
   "codemirror_mode": {
    "name": "ipython",
    "version": 3
   },
   "file_extension": ".py",
   "mimetype": "text/x-python",
   "name": "python",
   "nbconvert_exporter": "python",
   "pygments_lexer": "ipython3",
   "version": "3.7.1"
  }
 },
 "nbformat": 4,
 "nbformat_minor": 2
}
