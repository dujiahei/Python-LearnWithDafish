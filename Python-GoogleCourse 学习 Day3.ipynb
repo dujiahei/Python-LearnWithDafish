{
 "cells": [
  {
   "cell_type": "code",
   "execution_count": 1,
   "metadata": {},
   "outputs": [
    {
     "name": "stdout",
     "output_type": "stream",
     "text": [
      "{'pear', 'orange', 'apple'}\n"
     ]
    }
   ],
   "source": [
    "# 集合\n",
    "set1={'apple','orange','pear','apple','apple','orange'}\n",
    "print(set1) # 这里演示的是去重功能"
   ]
  },
  {
   "cell_type": "code",
   "execution_count": 2,
   "metadata": {},
   "outputs": [
    {
     "data": {
      "text/plain": [
       "True"
      ]
     },
     "execution_count": 2,
     "metadata": {},
     "output_type": "execute_result"
    }
   ],
   "source": [
    "'orange' in set1 # 快速判断元素是否在集合内"
   ]
  },
  {
   "cell_type": "code",
   "execution_count": 3,
   "metadata": {},
   "outputs": [
    {
     "data": {
      "text/plain": [
       "False"
      ]
     },
     "execution_count": 3,
     "metadata": {},
     "output_type": "execute_result"
    }
   ],
   "source": [
    "'fish' in set1"
   ]
  },
  {
   "cell_type": "code",
   "execution_count": 6,
   "metadata": {},
   "outputs": [
    {
     "name": "stdout",
     "output_type": "stream",
     "text": [
      "{'d', 'r', 'b', 'c', 'a'}\n",
      "{'d', 'r', 'b'}\n",
      "{'d', 'm', 'r', 'b', 'z', 'c', 'a', 'l'}\n",
      "{'c', 'a'}\n",
      "{'d', 'b', 'm', 'z', 'r', 'l'}\n"
     ]
    }
   ],
   "source": [
    "# 两个集合间的运算\n",
    "a = set('abracadabra')\n",
    "b = set('alacazam')\n",
    "print(a)\n",
    "print(a-b) # 集合a中包含而集合b中不包含的元素\n",
    "print(a|b) # 集合a或b中包含的所有元素\n",
    "print(a&b) # 集合a和b中都包含了的元素\n",
    "print(a^b) # 不同时包含于a和b的元素"
   ]
  },
  {
   "cell_type": "code",
   "execution_count": 8,
   "metadata": {},
   "outputs": [
    {
     "name": "stdout",
     "output_type": "stream",
     "text": [
      "{'d', 'r'}\n"
     ]
    }
   ],
   "source": [
    "# 类似列表推导式，同样集合支持集合推导式(Set comprehension):\n",
    "a = {x for x in 'abracadabra' if x not in 'abc'}\n",
    "print(a)"
   ]
  },
  {
   "cell_type": "code",
   "execution_count": 11,
   "metadata": {},
   "outputs": [
    {
     "name": "stdout",
     "output_type": "stream",
     "text": [
      "{'runoob', 'taobao', 'google'}\n",
      "{'runoob', 'taobao', 'google', 'facebook'}\n",
      "{'taobao', 1, 3, 'runoob', 'google', 'facebook'}\n",
      "{'taobao', 1, 2, 3, 6, 7, 8, 'runoob', 'google', 'facebook'}\n"
     ]
    }
   ],
   "source": [
    "# 集合的基本操作\n",
    "# 1.添加元素 将元素 x 添加到集合 s 中，如果元素已存在，则不进行任何操作。\n",
    "set1=set((\"google\",\"runoob\",\"taobao\"))\n",
    "print(set1)\n",
    "set1.add(\"facebook\") #还有一个方法update，也可以添加元素，且参数可以是列表，元组，字典等\n",
    "print(set1)\n",
    "set1.update({1,3})\n",
    "print(set1)\n",
    "set1.update({2,6},{7,8}) #元素可以有多个，用逗号分开。\n",
    "print(set1)"
   ]
  },
  {
   "cell_type": "code",
   "execution_count": 13,
   "metadata": {},
   "outputs": [
    {
     "name": "stdout",
     "output_type": "stream",
     "text": [
      "{'runoob', 'google'}\n"
     ]
    },
    {
     "ename": "KeyError",
     "evalue": "'tianmao'",
     "output_type": "error",
     "traceback": [
      "\u001b[1;31m---------------------------------------------------------------------------\u001b[0m",
      "\u001b[1;31mKeyError\u001b[0m                                  Traceback (most recent call last)",
      "\u001b[1;32m<ipython-input-13-16914459fee0>\u001b[0m in \u001b[0;36m<module>\u001b[1;34m\u001b[0m\n\u001b[0;32m      4\u001b[0m \u001b[0mprint\u001b[0m\u001b[1;33m(\u001b[0m\u001b[0mset1\u001b[0m\u001b[1;33m)\u001b[0m\u001b[1;33m\u001b[0m\u001b[1;33m\u001b[0m\u001b[0m\n\u001b[0;32m      5\u001b[0m \u001b[1;33m\u001b[0m\u001b[0m\n\u001b[1;32m----> 6\u001b[1;33m \u001b[0mset1\u001b[0m\u001b[1;33m.\u001b[0m\u001b[0mremove\u001b[0m\u001b[1;33m(\u001b[0m\u001b[1;34m\"tianmao\"\u001b[0m\u001b[1;33m)\u001b[0m\u001b[1;33m\u001b[0m\u001b[1;33m\u001b[0m\u001b[0m\n\u001b[0m",
      "\u001b[1;31mKeyError\u001b[0m: 'tianmao'"
     ]
    }
   ],
   "source": [
    "# 2 移除元素 s.remove( x )\n",
    "set1=set((\"google\",\"runoob\",\"taobao\"))\n",
    "set1.remove(\"taobao\")\n",
    "print(set1)\n",
    "\n",
    "set1.remove(\"tianmao\") # 元素不存在，会发生错误"
   ]
  },
  {
   "cell_type": "code",
   "execution_count": 14,
   "metadata": {},
   "outputs": [
    {
     "name": "stdout",
     "output_type": "stream",
     "text": [
      "{'runoob', 'taobao', 'google'}\n"
     ]
    }
   ],
   "source": [
    "#此外还有一个方法也是移除集合中的元素，且如果元素不存在，不会发生错误。格式：s.discard( x )\n",
    "set1=set((\"google\",\"runoob\",\"taobao\"))\n",
    "set1.discard(\"Facebook\")  # 不存在不会发生错误\n",
    "print(set1)"
   ]
  },
  {
   "cell_type": "code",
   "execution_count": 16,
   "metadata": {},
   "outputs": [
    {
     "name": "stdout",
     "output_type": "stream",
     "text": [
      "runoob\n",
      "{'taobao', 'google'}\n"
     ]
    }
   ],
   "source": [
    "# 随机删除集合中的一个元素\n",
    "set1=set((\"google\",\"runoob\",\"taobao\"))\n",
    "print(set1.pop())\n",
    "print(set1)\n",
    "# 脚本模式，多次执行测试结果都不一样。\n",
    "# 然而在交互模式，pop 是删除集合的第一个元素（排序后的集合的第一个元素）。"
   ]
  },
  {
   "cell_type": "code",
   "execution_count": 17,
   "metadata": {},
   "outputs": [
    {
     "name": "stdout",
     "output_type": "stream",
     "text": [
      "3\n"
     ]
    }
   ],
   "source": [
    "# 计算集合中元素个数\n",
    "set1=set((\"google\",\"runoob\",\"taobao\"))\n",
    "print(len(set1))"
   ]
  },
  {
   "cell_type": "code",
   "execution_count": 18,
   "metadata": {},
   "outputs": [
    {
     "name": "stdout",
     "output_type": "stream",
     "text": [
      "set()\n"
     ]
    }
   ],
   "source": [
    "# 清空集合\n",
    "set1=set((\"google\",\"runoob\",\"taobao\"))\n",
    "set1.clear()\n",
    "print(set1)"
   ]
  },
  {
   "cell_type": "code",
   "execution_count": 19,
   "metadata": {},
   "outputs": [
    {
     "data": {
      "text/plain": [
       "True"
      ]
     },
     "execution_count": 19,
     "metadata": {},
     "output_type": "execute_result"
    }
   ],
   "source": [
    "# 判断集合中是否有某个元素\n",
    "set1=set((\"google\",\"runoob\",\"taobao\"))\n",
    "\"runoob\" in set1"
   ]
  },
  {
   "cell_type": "code",
   "execution_count": 20,
   "metadata": {},
   "outputs": [
    {
     "name": "stdout",
     "output_type": "stream",
     "text": [
      "1- if 表达式条件为true\n",
      "200\n",
      "Good bye!\n"
     ]
    }
   ],
   "source": [
    "## 条件判断 if 语句\n",
    "var1=200\n",
    "if var1:\n",
    "    print(\"1- if 表达式条件为true\")\n",
    "    print(var1)\n",
    "\n",
    "var2=0\n",
    "if var2:\n",
    "    print(\"2-if 表达式条件为true\")\n",
    "    print(var2)\n",
    "print(\"Good bye!\")\n",
    "# 由于变量 var2 为 0，所以对应的 if 内的语句没有执行。"
   ]
  },
  {
   "cell_type": "code",
   "execution_count": 25,
   "metadata": {},
   "outputs": [
    {
     "name": "stdout",
     "output_type": "stream",
     "text": [
      "请输入你家狗狗的年龄： 4\n",
      "\n",
      "你家的小狗狗相当于32岁的人类哦。\n"
     ]
    }
   ],
   "source": [
    "# 小练习 狗的年龄判断\n",
    "age=int(input(\"请输入你家狗狗的年龄： \"))\n",
    "print(\"\")\n",
    "if age<0:\n",
    "    print(\"你怕不是在逗我吧！\")\n",
    "elif age==1:\n",
    "    print(\"你家的小狗狗相当于14岁的人类哦。\")\n",
    "elif age==2:\n",
    "    print(\"你家的小狗狗相当于22岁的人类哦。\")\n",
    "elif age>2:\n",
    "    human=22+(age-2)*5\n",
    "    print(\"你家的小狗狗相当于%d岁的人类哦。\" %human)"
   ]
  },
  {
   "cell_type": "code",
   "execution_count": 26,
   "metadata": {},
   "outputs": [
    {
     "name": "stdout",
     "output_type": "stream",
     "text": [
      "False\n"
     ]
    }
   ],
   "source": [
    "print(5==6)"
   ]
  },
  {
   "cell_type": "code",
   "execution_count": 27,
   "metadata": {},
   "outputs": [
    {
     "name": "stdout",
     "output_type": "stream",
     "text": [
      "False\n"
     ]
    }
   ],
   "source": [
    "x=5\n",
    "y=6\n",
    "print(x==y)"
   ]
  },
  {
   "cell_type": "code",
   "execution_count": 1,
   "metadata": {},
   "outputs": [
    {
     "name": "stdout",
     "output_type": "stream",
     "text": [
      "数字猜谜游戏!\n",
      "请输入你猜的数字：7\n",
      "恭喜，你猜对了！\n"
     ]
    }
   ],
   "source": [
    "# 数字猜谜游戏\n",
    "number = 7\n",
    "guess = -1\n",
    "print(\"数字猜谜游戏!\")\n",
    "while guess != number:\n",
    "    guess = int(input(\"请输入你猜的数字：\"))\n",
    " \n",
    "    if guess == number:\n",
    "        print(\"恭喜，你猜对了！\")\n",
    "    elif guess < number:\n",
    "        print(\"猜的数字小了...\")\n",
    "    elif guess > number:\n",
    "        print(\"猜的数字大了...\")"
   ]
  },
  {
   "cell_type": "code",
   "execution_count": 2,
   "metadata": {},
   "outputs": [
    {
     "name": "stdout",
     "output_type": "stream",
     "text": [
      "输入一个数字：2\n",
      "你输入的数字可以整除 2，但不能整除 3\n"
     ]
    }
   ],
   "source": [
    "# if 语句嵌套\n",
    "\n",
    "num=int(input(\"输入一个数字：\"))\n",
    "if num%2==0:\n",
    "    if num%3==0:\n",
    "        print (\"你输入的数字可以整除 2 和 3\")\n",
    "    else:\n",
    "        print (\"你输入的数字可以整除 2，但不能整除 3\")\n",
    "else:\n",
    "    if num%3==0:\n",
    "        print (\"你输入的数字可以整除 3，但不能整除 2\")\n",
    "    else:\n",
    "        print  (\"你输入的数字不能整除 2 和 3\")"
   ]
  },
  {
   "cell_type": "code",
   "execution_count": 4,
   "metadata": {},
   "outputs": [
    {
     "name": "stdout",
     "output_type": "stream",
     "text": [
      "请输入第一个数：1\n",
      "请输入第二个数：2\n",
      "较大的数为： 2\n"
     ]
    }
   ],
   "source": [
    "# python 中的三目表达式： 条件为真时的结果 if 判段的条件 else 条件为假时的结果 \n",
    "# 练习1 编写一个Python程序，输入两个数，比较它们的大小并输出其中较大者。\n",
    "x=int(input(\"请输入第一个数：\"))\n",
    "y=int(input(\"请输入第二个数：\"))\n",
    "\n",
    "# if 判断语句写法\n",
    "if x==y:\n",
    "    print(\"他俩相等欸\")\n",
    "elif x>y:\n",
    "    print(\"较大的数为：\",x)\n",
    "else:\n",
    "    print(\"较大的数为：\",y)"
   ]
  },
  {
   "cell_type": "code",
   "execution_count": 5,
   "metadata": {},
   "outputs": [
    {
     "name": "stdout",
     "output_type": "stream",
     "text": [
      "2\n"
     ]
    }
   ],
   "source": [
    "# 三目表达式写法\n",
    "print(x if(x>y) else y)"
   ]
  },
  {
   "cell_type": "code",
   "execution_count": 6,
   "metadata": {},
   "outputs": [
    {
     "name": "stdout",
     "output_type": "stream",
     "text": [
      "输入第一个数：1\n",
      "输入第二个数：2\n",
      "输入第三个数：3\n",
      "3\n",
      "3\n"
     ]
    }
   ],
   "source": [
    "# 练习2： 输入三个数，输出其中最大值\n",
    "x=int(input(\"输入第一个数：\"))\n",
    "y=int(input(\"输入第二个数：\"))\n",
    "z=int(input(\"输入第三个数：\"))\n",
    "\n",
    "# 三目表达式的第一种写法 !!!\n",
    "print((x if (x>y) else y) if ((x if (x>y) else y)>z) else z)\n",
    "#三目运算符的第二种写法, 个人觉得更好理解。。。。\n",
    "a = (x if (x>y) else y)\n",
    "print(a if a>z else z)"
   ]
  },
  {
   "cell_type": "code",
   "execution_count": 7,
   "metadata": {},
   "outputs": [
    {
     "data": {
      "text/plain": [
       "range(0, 5)"
      ]
     },
     "execution_count": 7,
     "metadata": {},
     "output_type": "execute_result"
    }
   ],
   "source": [
    "range(5)"
   ]
  },
  {
   "cell_type": "code",
   "execution_count": 8,
   "metadata": {},
   "outputs": [
    {
     "data": {
      "text/plain": [
       "[0, 1, 2, 3, 4]"
      ]
     },
     "execution_count": 8,
     "metadata": {},
     "output_type": "execute_result"
    }
   ],
   "source": [
    "list(range(5))"
   ]
  },
  {
   "cell_type": "code",
   "execution_count": 9,
   "metadata": {},
   "outputs": [
    {
     "data": {
      "text/plain": [
       "[1, 2, 3, 4]"
      ]
     },
     "execution_count": 9,
     "metadata": {},
     "output_type": "execute_result"
    }
   ],
   "source": [
    "list(range(1,5))"
   ]
  },
  {
   "cell_type": "code",
   "execution_count": 10,
   "metadata": {},
   "outputs": [
    {
     "name": "stdout",
     "output_type": "stream",
     "text": [
      "<class 'range'>\n"
     ]
    }
   ],
   "source": [
    "print(type(range(1,10)))"
   ]
  },
  {
   "cell_type": "code",
   "execution_count": 11,
   "metadata": {},
   "outputs": [
    {
     "name": "stdout",
     "output_type": "stream",
     "text": [
      "[1, 2, 3, 4, 5, 6, 7, 8, 9]\n"
     ]
    }
   ],
   "source": [
    "print(list(range(1,10)))"
   ]
  },
  {
   "cell_type": "code",
   "execution_count": 12,
   "metadata": {},
   "outputs": [
    {
     "name": "stdout",
     "output_type": "stream",
     "text": [
      "5050\n"
     ]
    }
   ],
   "source": [
    "## for in 循环\n",
    "sum = 0\n",
    "for x in range(101):\n",
    "    sum = sum + x\n",
    "print(sum)"
   ]
  },
  {
   "cell_type": "code",
   "execution_count": 13,
   "metadata": {},
   "outputs": [
    {
     "name": "stdout",
     "output_type": "stream",
     "text": [
      "2500\n"
     ]
    }
   ],
   "source": [
    "# while 循环\n",
    "sum = 0\n",
    "n = 99\n",
    "while n > 0:\n",
    "    sum = sum + n\n",
    "    n = n - 2\n",
    "print(sum)"
   ]
  },
  {
   "cell_type": "code",
   "execution_count": 14,
   "metadata": {},
   "outputs": [
    {
     "name": "stdout",
     "output_type": "stream",
     "text": [
      "1\n",
      "2\n",
      "3\n",
      "4\n",
      "5\n",
      "6\n",
      "7\n",
      "8\n",
      "9\n",
      "10\n",
      "END\n"
     ]
    }
   ],
   "source": [
    "n = 1\n",
    "while n <= 100:\n",
    "    if n > 10: # 当n = 11时，条件满足，执行break语句\n",
    "        break # break语句会结束当前循环\n",
    "    print(n)\n",
    "    n = n + 1\n",
    "print('END')"
   ]
  },
  {
   "cell_type": "code",
   "execution_count": 15,
   "metadata": {},
   "outputs": [
    {
     "name": "stdout",
     "output_type": "stream",
     "text": [
      "1\n",
      "3\n",
      "5\n",
      "7\n",
      "9\n"
     ]
    }
   ],
   "source": [
    "n = 0\n",
    "while n < 10:\n",
    "    n = n + 1\n",
    "    if n % 2 == 0: # 如果n是偶数，执行continue语句\n",
    "        continue # continue语句会直接继续下一轮循环，后续的print()语句不会执行\n",
    "    print(n)"
   ]
  },
  {
   "cell_type": "code",
   "execution_count": 31,
   "metadata": {},
   "outputs": [
    {
     "name": "stdout",
     "output_type": "stream",
     "text": [
      "{'元旦': 3, '春节': 7, '清明节': 3, '劳动节': 3, '端午节': 3, '中秋节': 3, '国庆节': 7}\n"
     ]
    }
   ],
   "source": [
    "# 作业1：创建一个2019年法定节假日字典，要求键为节日名称，值为放假天数，\n",
    "# 除“国庆节”，“春节”放假天数为7，其余均默认为3。\n",
    "# 检查所有法定节假日放假天数，\n",
    "# 发现劳动节只放假1天，做出修改。\n",
    "# 遍历字典，将每个假期放假天数一一对应，打印出来。\n",
    "\n",
    "# for 循环建立 法定节假日字典 \n",
    "import operator\n",
    "valueList=[\"元旦\",\"春节\",\"清明节\",\"劳动节\",\"端午节\",\"中秋节\",\"国庆节\"]\n",
    "dictDay = dict() #创建空字典\n",
    "for key in valueList:\n",
    "    if (operator.eq(key,\"春节\") | operator.eq(key,\"国庆节\")):\n",
    "        dictDay[key]=7\n",
    "    else:\n",
    "        dictDay[key]=3\n",
    "print(dictDay)\n"
   ]
  },
  {
   "cell_type": "code",
   "execution_count": 33,
   "metadata": {},
   "outputs": [
    {
     "name": "stdout",
     "output_type": "stream",
     "text": [
      "{'元旦': 3, '春节': 7, '清明节': 3, '劳动节': 1, '端午节': 3, '中秋节': 3, '国庆节': 7}\n"
     ]
    }
   ],
   "source": [
    "# 但是劳动节只放1天。。。。修改\n",
    "dictDay[\"劳动节\"]=1\n",
    "print(dictDay)"
   ]
  },
  {
   "cell_type": "code",
   "execution_count": 35,
   "metadata": {},
   "outputs": [
    {
     "name": "stdout",
     "output_type": "stream",
     "text": [
      "元旦 3\n",
      "春节 7\n",
      "清明节 3\n",
      "劳动节 1\n",
      "端午节 3\n",
      "中秋节 3\n",
      "国庆节 7\n"
     ]
    }
   ],
   "source": [
    "# 遍历字典，将每个假期放假天数一一对应，打印出来。\n",
    "for key in dictDay:\n",
    "    print(key,dictDay[key])"
   ]
  },
  {
   "cell_type": "code",
   "execution_count": null,
   "metadata": {},
   "outputs": [
    {
     "name": "stdout",
     "output_type": "stream",
     "text": [
      "请输入一个0-9之间的数字10\n",
      "您输入的数字超出范围，请输入0-9间的数字：10\n",
      "您输入的数字超出范围，请输入0-9间的数字：2\n",
      "您输入的数字超出范围，请输入0-9间的数字：2\n",
      "您输入的数字超出范围，请输入0-9间的数字：3\n"
     ]
    }
   ],
   "source": [
    "# 作业2 \n",
    "# 请对方输入一个0-9之间的数字，\n",
    "# 进行检查，若不是数字提示：您输入的不是数字，请输入0-9间的数字，\n",
    "# 若数字不在0-9范围内，提示用户输入0-9之间的数字，直至用户输入正确。\n",
    "# 系统随机生成一个长度为3的数字列表，且列表中元素在0-9之间并且不相等。\n",
    "# 将用户输入与该列表进行比较，若为列表第一个元素，则荣获第一名，\n",
    "# 列表第二个元素，则荣获第二名，列表第三个名字，则荣获第三名，\n",
    "# 否则提示用户未得奖，输入1重新开始游戏，输入2则结束游戏。\n",
    "\n",
    "# 注意：每次游戏中列表中数字要求随机生成，每轮游戏都不相等。\n",
    "\n",
    "# 请对方输入一个数字\n",
    "num1=(input(\"请输入一个0-9之间的数字\"))\n",
    "#num1.isdigit()\n",
    "#not num1.isdigit()\n",
    "while not num1.isdigit():\n",
    "    guess = int(input(\"您输入的不是数字，请输入0-9间的数字：\"))\n",
    "while int(num1) not in list(range(10)):\n",
    "    guess = int(input(\"您输入的数字超出范围，请输入0-9间的数字：\"))"
   ]
  },
  {
   "cell_type": "code",
   "execution_count": null,
   "metadata": {},
   "outputs": [
    {
     "name": "stdout",
     "output_type": "stream",
     "text": [
      "请输入一个0-9之间的数字12\n",
      "\n",
      "您输入的数字超出范围，请输入0-9间的数字：1\n"
     ]
    }
   ],
   "source": [
    "num1=(input(\"请输入一个0-9之间的数字\"))\n",
    "#num1.isdigit()\n",
    "#not num1.isdigit()\n",
    "while not num1.isdigit():\n",
    "    guess = int(input(\"您输入的不是数字，请输入0-9间的数字：\"))\n",
    "print(\"\")\n",
    "while int(num1) not in list(range(10)):\n",
    "    guess = int(input(\"您输入的数字超出范围，请输入0-9间的数字：\"))"
   ]
  },
  {
   "cell_type": "code",
   "execution_count": null,
   "metadata": {},
   "outputs": [],
   "source": [
    "num1=(input(\"请输入一个0-9之间的数字\"))\n",
    "#num1.isdigit()\n",
    "#not num1.isdigit()\n",
    "while not num1.isdigit():\n",
    "    guess = int(input(\"您输入的不是数字，请输入0-9间的数字：\"))\n",
    "print(\"\")\n",
    "UserNum=int(num1)\n",
    "if UserNum not in [1:10]:\n",
    "    while 1:\n",
    "        guess = int(input(\"您输入的数字超出范围，请输入0-9间的数字：\"))\n",
    "        if UserNum in [1:10]:\n",
    "            break"
   ]
  },
  {
   "cell_type": "code",
   "execution_count": null,
   "metadata": {},
   "outputs": [],
   "source": [
    "# 系统生成随机数\n",
    "import random\n",
    "SysNum=[]\n",
    "while (len(SysNum)<3):\n",
    "    x=random.randint(0,9)\n",
    "    if x not in SysNum:\n",
    "        SysNum.append(x)\n",
    "print(SysNum)    "
   ]
  }
 ],
 "metadata": {
  "kernelspec": {
   "display_name": "Python 3",
   "language": "python",
   "name": "python3"
  },
  "language_info": {
   "codemirror_mode": {
    "name": "ipython",
    "version": 3
   },
   "file_extension": ".py",
   "mimetype": "text/x-python",
   "name": "python",
   "nbconvert_exporter": "python",
   "pygments_lexer": "ipython3",
   "version": "3.7.1"
  }
 },
 "nbformat": 4,
 "nbformat_minor": 2
}
