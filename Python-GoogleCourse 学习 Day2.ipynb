{
 "cells": [
  {
   "cell_type": "code",
   "execution_count": 1,
   "metadata": {},
   "outputs": [],
   "source": [
    "# string\n",
    "a='Hello World!'\n",
    "b='Python AI'"
   ]
  },
  {
   "cell_type": "code",
   "execution_count": 2,
   "metadata": {},
   "outputs": [
    {
     "name": "stdout",
     "output_type": "stream",
     "text": [
      "<class 'str'> <class 'str'> <class 'str'>\n"
     ]
    }
   ],
   "source": [
    "c=\"Hello Python\"\n",
    "print(type(a),type(b),type(c)) "
   ]
  },
  {
   "cell_type": "code",
   "execution_count": 5,
   "metadata": {},
   "outputs": [
    {
     "name": "stdout",
     "output_type": "stream",
     "text": [
      "Hello \"Python\"\n"
     ]
    }
   ],
   "source": [
    "str4='Hello \"Python\"' #单引号和双引号可以互相嵌套\n",
    "print(str4)\n"
   ]
  },
  {
   "cell_type": "code",
   "execution_count": 6,
   "metadata": {},
   "outputs": [
    {
     "name": "stdout",
     "output_type": "stream",
     "text": [
      "Hello 'Python'\n"
     ]
    }
   ],
   "source": [
    "str5='Hello \\'Python\\'' #两对单引号嵌套需要转义符\n",
    "print(str5)"
   ]
  },
  {
   "cell_type": "code",
   "execution_count": 7,
   "metadata": {},
   "outputs": [
    {
     "name": "stdout",
     "output_type": "stream",
     "text": [
      "Hello \" Python\"\n"
     ]
    }
   ],
   "source": [
    "str6=\"Hello \\\" Python\\\"\" #两对双引号嵌套需要转义符\n",
    "print(str6)"
   ]
  },
  {
   "cell_type": "code",
   "execution_count": 18,
   "metadata": {},
   "outputs": [
    {
     "name": "stdout",
     "output_type": "stream",
     "text": [
      "\"hello 'python'\"\n",
      "\"Hello ' python'\"\n"
     ]
    }
   ],
   "source": [
    "str7 = '''\"hello 'python'\"''' #三对单引号 注意数清对号个数\n",
    "str7a= '''\"Hello \\' python\\'\"'''  #这里加上转义字符也可\n",
    "print(str7)\n",
    "print(str7a)"
   ]
  },
  {
   "cell_type": "code",
   "execution_count": 20,
   "metadata": {},
   "outputs": [
    {
     "name": "stdout",
     "output_type": "stream",
     "text": [
      "hello 'hey' \"python\"\n"
     ]
    }
   ],
   "source": [
    "str8='''hello 'hey' \"python\"'''\n",
    "print(str8)"
   ]
  },
  {
   "cell_type": "code",
   "execution_count": 25,
   "metadata": {},
   "outputs": [
    {
     "data": {
      "text/plain": [
       "'\\n可以发现，一个字符串的最外层是三个单引号，则它不会关心引号里面的单引号和双引号，\\n直接输出里面的内容。所以如果需要输出的字符串里有引号建议使用这种方式。\\n综上，可以总结为：在不使用转义字符的情况下，单引号里可以有双引号，双引号里可以有单引号，\\n三引号里既可以有单引号也可以有双引号。\\n\\n'"
      ]
     },
     "execution_count": 25,
     "metadata": {},
     "output_type": "execute_result"
    }
   ],
   "source": [
    " \"\"\"\n",
    "可以发现，一个字符串的最外层是三个单引号，则它不会关心引号里面的单引号和双引号，\n",
    "直接输出里面的内容。所以如果需要输出的字符串里有引号建议使用这种方式。\n",
    "综上，可以总结为：在不使用转义字符的情况下，单引号里可以有双引号，双引号里可以有单引号，\n",
    "三引号里既可以有单引号也可以有双引号。\n",
    "\n",
    "\"\"\" "
   ]
  },
  {
   "cell_type": "code",
   "execution_count": 27,
   "metadata": {},
   "outputs": [
    {
     "name": "stdout",
     "output_type": "stream",
     "text": [
      "c:\temp\n",
      "c:\\temp\n"
     ]
    }
   ],
   "source": [
    "# 源字符串 希望\"\\\"后面的字母不被python看作是转义字符，在字符串前面加上一个字母‘r’即可\n",
    "print(\"c:\\temp\")\n",
    "print(r\"c:\\temp\")"
   ]
  },
  {
   "cell_type": "code",
   "execution_count": 28,
   "metadata": {},
   "outputs": [
    {
     "name": "stdout",
     "output_type": "stream",
     "text": [
      "2756275402096\n",
      "2756320203640\n",
      "2756275402096\n"
     ]
    }
   ],
   "source": [
    "# 字符串的更新\n",
    "t='abc'\n",
    "print(id(t))\n",
    "t='1234'\n",
    "print(id(t))\n",
    "c='abc'\n",
    "print(id(c))\n",
    " \"\"\"\n",
    "输出发现修改字符串t前后id不同，说明不和C语言一样在原地址上更新。\n",
    "再次将'abc'字符串给另一个变量c时，c的id还是原先t的id，也可以说明这一点\n",
    " \"\"\""
   ]
  },
  {
   "cell_type": "code",
   "execution_count": 29,
   "metadata": {},
   "outputs": [
    {
     "name": "stdout",
     "output_type": "stream",
     "text": [
      "3\n",
      "357\n"
     ]
    }
   ],
   "source": [
    "# 字符串的访问\n",
    "s=\"123456789\"\n",
    "# 索引访问\n",
    "print(s[2])\n",
    "# 切片访问\n",
    "print(s[2:8:2]) #str_name[start:end:step]，start是访问字符串的起点，end为终点，step为步长，得到的子串由start到end-1这些字符组成(前闭后开)"
   ]
  },
  {
   "cell_type": "code",
   "execution_count": 34,
   "metadata": {},
   "outputs": [
    {
     "name": "stdout",
     "output_type": "stream",
     "text": [
      "123456789abcdefghi12\n",
      "3456789abcdefghi123456789\n",
      "abcdefghi\n",
      "123456789abcdefghi123456789\n",
      "147adg147\n",
      "987654321ihgfedcba987654321\n",
      "ihgfedcba\n",
      "ihgfedcba\n"
     ]
    }
   ],
   "source": [
    "s = '123456789abcdefghi123456789'\n",
    " #正切片\n",
    "print (s[:20])  #不指定start\n",
    "print (s[2:])   #不指定end\n",
    "print (s[9:-9]) #指定end为负数\n",
    "print (s[:])  #不指定start和end相当于print s\n",
    "print (s[::3])  #只指定步长\n",
    " #反切片\n",
    "print (s[::-1]) \n",
    "print (s[17:-19:-1])\n",
    "print (s[-10:-19:-1])"
   ]
  },
  {
   "cell_type": "code",
   "execution_count": 36,
   "metadata": {},
   "outputs": [
    {
     "name": "stdout",
     "output_type": "stream",
     "text": [
      "hello word!\n",
      "----------\n",
      "hello hello hello \n"
     ]
    }
   ],
   "source": [
    "# 字符串的加 乘\n",
    "str8='hello '\n",
    "str9='word!'\n",
    "# 字符串+连接\n",
    "print(str8+str9)\n",
    "# 10个短横线输出\n",
    "print('-'*10)\n",
    "# 输出3个hello\n",
    "print(str8*3)"
   ]
  },
  {
   "cell_type": "code",
   "execution_count": 37,
   "metadata": {},
   "outputs": [
    {
     "name": "stdout",
     "output_type": "stream",
     "text": [
      "True\n"
     ]
    }
   ],
   "source": [
    "# 字符串的成员运算符\n",
    "#1） in 和not in 运算，判断某个字符或者子串是否在字符串中\n",
    "#如果字符串中包含给定的字符串,返回True\n",
    "str8 = \"hello \"\n",
    "print(\"he\" in str8)"
   ]
  },
  {
   "cell_type": "code",
   "execution_count": 38,
   "metadata": {},
   "outputs": [
    {
     "name": "stdout",
     "output_type": "stream",
     "text": [
      "True\n"
     ]
    }
   ],
   "source": [
    "# 如果字符串不包含给定的子串，返回true\n",
    "print(\"hw\" not in str8)"
   ]
  },
  {
   "cell_type": "code",
   "execution_count": 41,
   "metadata": {},
   "outputs": [
    {
     "name": "stdout",
     "output_type": "stream",
     "text": [
      "my name is abc, weight is 50 kg.\n"
     ]
    }
   ],
   "source": [
    "#2） 字符串的格式化，即支持占位符\n",
    "dic=('abc',50)\n",
    "print('my name is %s, weight is %d kg.' %dic)"
   ]
  },
  {
   "cell_type": "code",
   "execution_count": 42,
   "metadata": {},
   "outputs": [
    {
     "name": "stdout",
     "output_type": "stream",
     "text": [
      "26\n",
      "36\n",
      "26\n",
      "26\n",
      "2\n"
     ]
    }
   ],
   "source": [
    "mystr = 'hello world start leaning and hello and world!'\n",
    "# 字符串查找\n",
    "print(mystr.find('and')) #查找字符串中第一个'and'出现的位置\n",
    "print(mystr.find('and',27)) #从第27的位置开始找\n",
    "print(mystr.find('and',0,len(mystr))) #从第一个字符到字符串结尾找第一个'and'出现的位置，可以缺省start ,end即起止参数\n",
    "#-----mystr.rfind() 从右开始查找\n",
    "print(mystr.index('and')) #和find差不多，但是index中的参数在mystr中不存在则会抛出异常\n",
    "print(mystr.count(\"and\")) #统计'and'出现的次数，同样和find一样可以有3个参数"
   ]
  },
  {
   "cell_type": "code",
   "execution_count": 46,
   "metadata": {},
   "outputs": [
    {
     "name": "stdout",
     "output_type": "stream",
     "text": [
      "<class 'str'>\n"
     ]
    }
   ],
   "source": [
    "# 字符串编码解码\n",
    "mystr1 = mystr.encode(encoding=\"utf-8\")   #按指定编码方式编码\n",
    "print(type(mystr))"
   ]
  },
  {
   "cell_type": "code",
   "execution_count": 47,
   "metadata": {},
   "outputs": [
    {
     "name": "stdout",
     "output_type": "stream",
     "text": [
      "hello world start leaning and hello and world!\n",
      "<class 'str'>\n"
     ]
    }
   ],
   "source": [
    "mystr2 = mystr1.decode(encoding=\"utf-8\",errors=\"strict\")  #按指定编码方式解码，\n",
    "# #errors参数为strict，如果编码错误会抛出ValueError异常，除非errors指定的是ignore或replace\n",
    "print(mystr2)\n",
    "print(type(mystr2))"
   ]
  },
  {
   "cell_type": "code",
   "execution_count": 48,
   "metadata": {},
   "outputs": [
    {
     "name": "stdout",
     "output_type": "stream",
     "text": [
      "hello world start leaning or hello or world!\n",
      "hello world start leaning and hello and world!\n"
     ]
    }
   ],
   "source": [
    "print(mystr.replace('and','or')) \n",
    "#字符串替换函数，返回替换后的字符串，但是mystr本身并没有改变,\n",
    "#除非mystr=mystr.replace('and','or')\n",
    "print(mystr)"
   ]
  },
  {
   "cell_type": "code",
   "execution_count": 49,
   "metadata": {},
   "outputs": [
    {
     "name": "stdout",
     "output_type": "stream",
     "text": [
      "hello world start leaning or hello and world!\n",
      "['hello', 'world', 'start', 'leaning', 'and', 'hello', 'and', 'world!']\n",
      "['hello', 'world', 'start', 'leaning and hello and world!']\n"
     ]
    }
   ],
   "source": [
    "print(mystr.replace('and','or',1)) #只替换一次\n",
    "print(mystr.split(' ')) #按照空格进行分割，放到一个列表里\n",
    "print(mystr.split(' ',3)) #按照空格分割成4个子串"
   ]
  },
  {
   "cell_type": "code",
   "execution_count": 50,
   "metadata": {},
   "outputs": [
    {
     "name": "stdout",
     "output_type": "stream",
     "text": [
      "<class 'list'>\n",
      "1\n"
     ]
    }
   ],
   "source": [
    "## list 列表\n",
    "# 访问\n",
    "list1 = [1,2,3,4] #定义列表\n",
    "print(type(list1))\n",
    "print(list1[0])#输出第一个元素"
   ]
  },
  {
   "cell_type": "code",
   "execution_count": 51,
   "metadata": {},
   "outputs": [
    {
     "name": "stdout",
     "output_type": "stream",
     "text": [
      "[1, 2, 4]\n"
     ]
    }
   ],
   "source": [
    "# 可以通过del list_name[index]来删除列表的下标是index的数据。\n",
    "del list1[2] # 删除第三个元素\n",
    "print(list1)"
   ]
  },
  {
   "cell_type": "code",
   "execution_count": 53,
   "metadata": {},
   "outputs": [
    {
     "name": "stdout",
     "output_type": "stream",
     "text": [
      "[1, 2, 3, 4, 5]\n",
      "[1, 3, 5, 7]\n",
      "[2, 4, 6, 8, 9]\n"
     ]
    }
   ],
   "source": [
    "# 切片访问\n",
    "list1 = [1,2,3,4,5,6,7,8,9] #列表的定义\n",
    "print(list1[0:5])  #访问第1-5的元素\n",
    "print (list1[0:8:2]) #访问第1-8的元素，步长为2\n",
    "# 使用del list_name(start:end[:step])来删除对应的元素。\n",
    "del list1[0:8:2]  #删除下标为0到7的元素\n",
    "print(list1)"
   ]
  },
  {
   "cell_type": "code",
   "execution_count": 54,
   "metadata": {},
   "outputs": [
    {
     "name": "stdout",
     "output_type": "stream",
     "text": [
      "[1, 2, 3, 4, 5, 6, 7, 8, 9]\n"
     ]
    }
   ],
   "source": [
    "# 列表的加法：列表可以同字符串一样相加。\n",
    "list = [1,2,3,4] #列表的定义\n",
    "print(list+[5,6,7,8,9] )\n"
   ]
  },
  {
   "cell_type": "code",
   "execution_count": 55,
   "metadata": {},
   "outputs": [
    {
     "name": "stdout",
     "output_type": "stream",
     "text": [
      "['y', 'y', 'c', 'y', 'y', 'c', 'y', 'y', 'c']\n"
     ]
    }
   ],
   "source": [
    "# 列表的乘法：相当于字符串的乘法，一个列表乘（*）以N次，表示这个列表相加了N次。\n",
    "list = [\"y\",\"y\",\"c\"] #列表的定义\n",
    "print (list* 3)    #列表可以做乘法"
   ]
  },
  {
   "cell_type": "code",
   "execution_count": 57,
   "metadata": {},
   "outputs": [
    {
     "name": "stdout",
     "output_type": "stream",
     "text": [
      "True\n",
      "False\n"
     ]
    }
   ],
   "source": [
    "#列表的in和not in运算：用于判断某个元素是否在（不在）列表中。在返回True,不在返回False。\n",
    "list = [1,2,3,4] #列表的定义\n",
    "print (2 in list) #判断元素是否在列表中\n",
    "print (21 in list)"
   ]
  },
  {
   "cell_type": "code",
   "execution_count": 61,
   "metadata": {},
   "outputs": [
    {
     "name": "stdout",
     "output_type": "stream",
     "text": [
      "list[0]:  1\n",
      "list[1]:  2\n",
      "list[2]:  3\n",
      "list[3]:  4\n"
     ]
    }
   ],
   "source": [
    "# 列表的遍历：可以通过像字符串那样使用for循环来遍历列表。\n",
    "list=[1,2,3,4]\n",
    "i=0\n",
    "for value in list: # !!!! 要记得加冒号 ：\n",
    "    print('list[%d]: '%(i),value)\n",
    "    i+=1"
   ]
  },
  {
   "cell_type": "code",
   "execution_count": 62,
   "metadata": {},
   "outputs": [
    {
     "name": "stdout",
     "output_type": "stream",
     "text": [
      "range(1, 10)\n",
      "[1, 4, 27, 256, 3125, 46656, 823543, 16777216, 387420489]\n"
     ]
    }
   ],
   "source": [
    "# 列表的解析\n",
    "#可以方便的对列表中的元素进行运算，语法格式：[val_expr for val in list_name]，\n",
    "#val_expr是一个关于val的运算表达式，val用于存储for每次从列表中取出的元素，\n",
    "#然后通过val_expr的运算形成一个新的列表项，for循环结束则生成一个新的列表。\n",
    "#例子：计算1-9每个数本身的次方，如2**2 = 4\n",
    "list=range(1,10)\n",
    "print(list)\n",
    "list2=[x**x for x in list]\n",
    "print(list2)"
   ]
  },
  {
   "cell_type": "code",
   "execution_count": 63,
   "metadata": {},
   "outputs": [
    {
     "name": "stdout",
     "output_type": "stream",
     "text": [
      "Help on list object:\n",
      "\n",
      "class list(object)\n",
      " |  list(iterable=(), /)\n",
      " |  \n",
      " |  Built-in mutable sequence.\n",
      " |  \n",
      " |  If no argument is given, the constructor creates a new empty list.\n",
      " |  The argument must be an iterable if specified.\n",
      " |  \n",
      " |  Methods defined here:\n",
      " |  \n",
      " |  __add__(self, value, /)\n",
      " |      Return self+value.\n",
      " |  \n",
      " |  __contains__(self, key, /)\n",
      " |      Return key in self.\n",
      " |  \n",
      " |  __delitem__(self, key, /)\n",
      " |      Delete self[key].\n",
      " |  \n",
      " |  __eq__(self, value, /)\n",
      " |      Return self==value.\n",
      " |  \n",
      " |  __ge__(self, value, /)\n",
      " |      Return self>=value.\n",
      " |  \n",
      " |  __getattribute__(self, name, /)\n",
      " |      Return getattr(self, name).\n",
      " |  \n",
      " |  __getitem__(...)\n",
      " |      x.__getitem__(y) <==> x[y]\n",
      " |  \n",
      " |  __gt__(self, value, /)\n",
      " |      Return self>value.\n",
      " |  \n",
      " |  __iadd__(self, value, /)\n",
      " |      Implement self+=value.\n",
      " |  \n",
      " |  __imul__(self, value, /)\n",
      " |      Implement self*=value.\n",
      " |  \n",
      " |  __init__(self, /, *args, **kwargs)\n",
      " |      Initialize self.  See help(type(self)) for accurate signature.\n",
      " |  \n",
      " |  __iter__(self, /)\n",
      " |      Implement iter(self).\n",
      " |  \n",
      " |  __le__(self, value, /)\n",
      " |      Return self<=value.\n",
      " |  \n",
      " |  __len__(self, /)\n",
      " |      Return len(self).\n",
      " |  \n",
      " |  __lt__(self, value, /)\n",
      " |      Return self<value.\n",
      " |  \n",
      " |  __mul__(self, value, /)\n",
      " |      Return self*value.\n",
      " |  \n",
      " |  __ne__(self, value, /)\n",
      " |      Return self!=value.\n",
      " |  \n",
      " |  __repr__(self, /)\n",
      " |      Return repr(self).\n",
      " |  \n",
      " |  __reversed__(self, /)\n",
      " |      Return a reverse iterator over the list.\n",
      " |  \n",
      " |  __rmul__(self, value, /)\n",
      " |      Return value*self.\n",
      " |  \n",
      " |  __setitem__(self, key, value, /)\n",
      " |      Set self[key] to value.\n",
      " |  \n",
      " |  __sizeof__(self, /)\n",
      " |      Return the size of the list in memory, in bytes.\n",
      " |  \n",
      " |  append(self, object, /)\n",
      " |      Append object to the end of the list.\n",
      " |  \n",
      " |  clear(self, /)\n",
      " |      Remove all items from list.\n",
      " |  \n",
      " |  copy(self, /)\n",
      " |      Return a shallow copy of the list.\n",
      " |  \n",
      " |  count(self, value, /)\n",
      " |      Return number of occurrences of value.\n",
      " |  \n",
      " |  extend(self, iterable, /)\n",
      " |      Extend list by appending elements from the iterable.\n",
      " |  \n",
      " |  index(self, value, start=0, stop=9223372036854775807, /)\n",
      " |      Return first index of value.\n",
      " |      \n",
      " |      Raises ValueError if the value is not present.\n",
      " |  \n",
      " |  insert(self, index, object, /)\n",
      " |      Insert object before index.\n",
      " |  \n",
      " |  pop(self, index=-1, /)\n",
      " |      Remove and return item at index (default last).\n",
      " |      \n",
      " |      Raises IndexError if list is empty or index is out of range.\n",
      " |  \n",
      " |  remove(self, value, /)\n",
      " |      Remove first occurrence of value.\n",
      " |      \n",
      " |      Raises ValueError if the value is not present.\n",
      " |  \n",
      " |  reverse(self, /)\n",
      " |      Reverse *IN PLACE*.\n",
      " |  \n",
      " |  sort(self, /, *, key=None, reverse=False)\n",
      " |      Stable sort *IN PLACE*.\n",
      " |  \n",
      " |  ----------------------------------------------------------------------\n",
      " |  Static methods defined here:\n",
      " |  \n",
      " |  __new__(*args, **kwargs) from builtins.type\n",
      " |      Create and return a new object.  See help(type) for accurate signature.\n",
      " |  \n",
      " |  ----------------------------------------------------------------------\n",
      " |  Data and other attributes defined here:\n",
      " |  \n",
      " |  __hash__ = None\n",
      "\n",
      "None\n"
     ]
    }
   ],
   "source": [
    "## 列表的相关函数\n",
    "#列表的函数很多，\n",
    "#这里有个小技巧：遇到这种很多函数又记不住，\n",
    "#可以通过help 函数查看该类型拥有的所有方法\n",
    "list=[1,2,3,4]\n",
    "print(help(list)) #通过help函数查看该类型所有的函数方法"
   ]
  },
  {
   "cell_type": "code",
   "execution_count": 64,
   "metadata": {},
   "outputs": [
    {
     "name": "stdout",
     "output_type": "stream",
     "text": [
      "Help on built-in function insert:\n",
      "\n",
      "insert(index, object, /) method of builtins.list instance\n",
      "    Insert object before index.\n",
      "\n",
      "None\n"
     ]
    }
   ],
   "source": [
    "# 如果只记得方法名不知道参数怎么传了，可以用help(变量名.方法名)\n",
    "list=[2,4,6,8]\n",
    "print(help(list.insert)) #通过help函数查看具体某方法的用法"
   ]
  },
  {
   "cell_type": "code",
   "execution_count": 80,
   "metadata": {},
   "outputs": [
    {
     "name": "stdout",
     "output_type": "stream",
     "text": [
      "[1, 2, 3, 4, 5]\n"
     ]
    }
   ],
   "source": [
    "# 列表的几个常用函数\n",
    "list=[1,2,3,4,5,6]\n",
    "list.pop()  #1出桟，删除最后一个元素\n",
    "print(list)"
   ]
  },
  {
   "cell_type": "code",
   "execution_count": 78,
   "metadata": {},
   "outputs": [
    {
     "name": "stdout",
     "output_type": "stream",
     "text": [
      "range(1, 10)\n"
     ]
    },
    {
     "ename": "AttributeError",
     "evalue": "'range' object has no attribute 'pop'",
     "output_type": "error",
     "traceback": [
      "\u001b[1;31m---------------------------------------------------------------------------\u001b[0m",
      "\u001b[1;31mAttributeError\u001b[0m                            Traceback (most recent call last)",
      "\u001b[1;32m<ipython-input-78-5e8ca4169028>\u001b[0m in \u001b[0;36m<module>\u001b[1;34m\u001b[0m\n\u001b[0;32m      1\u001b[0m \u001b[0mlist2\u001b[0m \u001b[1;33m=\u001b[0m \u001b[0mrange\u001b[0m\u001b[1;33m(\u001b[0m\u001b[1;36m1\u001b[0m\u001b[1;33m,\u001b[0m\u001b[1;36m10\u001b[0m\u001b[1;33m)\u001b[0m\u001b[1;33m\u001b[0m\u001b[1;33m\u001b[0m\u001b[0m\n\u001b[0;32m      2\u001b[0m \u001b[0mprint\u001b[0m\u001b[1;33m(\u001b[0m\u001b[0mlist2\u001b[0m\u001b[1;33m)\u001b[0m\u001b[1;33m\u001b[0m\u001b[1;33m\u001b[0m\u001b[0m\n\u001b[1;32m----> 3\u001b[1;33m \u001b[0mlist2\u001b[0m\u001b[1;33m.\u001b[0m\u001b[0mpop\u001b[0m\u001b[1;33m(\u001b[0m\u001b[1;33m)\u001b[0m\u001b[1;33m\u001b[0m\u001b[1;33m\u001b[0m\u001b[0m\n\u001b[0m",
      "\u001b[1;31mAttributeError\u001b[0m: 'range' object has no attribute 'pop'"
     ]
    }
   ],
   "source": [
    "list2 = range(1,10)\n",
    "print(list2) \n",
    "list2.pop()"
   ]
  },
  {
   "cell_type": "code",
   "execution_count": 81,
   "metadata": {},
   "outputs": [
    {
     "name": "stdout",
     "output_type": "stream",
     "text": [
      "[1, 3, 4, 5]\n"
     ]
    }
   ],
   "source": [
    "list.pop(1) #2出桟，删除下标为1的元素\n",
    "print(list)"
   ]
  },
  {
   "cell_type": "code",
   "execution_count": 82,
   "metadata": {},
   "outputs": [
    {
     "name": "stdout",
     "output_type": "stream",
     "text": [
      "[1, 3, 4, 5, 20]\n"
     ]
    }
   ],
   "source": [
    "list.append(20) #3追加一个数\n",
    "print(list)"
   ]
  },
  {
   "cell_type": "code",
   "execution_count": 83,
   "metadata": {},
   "outputs": [
    {
     "name": "stdout",
     "output_type": "stream",
     "text": [
      "[1, 3, 4, 5, 20, 'hello']\n"
     ]
    }
   ],
   "source": [
    "list.append('hello') #4还可以追加一个字符串、实型等任何类型\n",
    "print(list)"
   ]
  },
  {
   "cell_type": "code",
   "execution_count": 84,
   "metadata": {},
   "outputs": [
    {
     "name": "stdout",
     "output_type": "stream",
     "text": [
      "[1, 3, 4, 5, 20, 'hello', ['a', 'b', 'c', 20]]\n"
     ]
    }
   ],
   "source": [
    "list.append(['a','b',\"c\",20]) #5甚至还可以追加一个列表，（注：python中字符用单引号双引号都一样）\n",
    "print(list)"
   ]
  },
  {
   "cell_type": "code",
   "execution_count": 85,
   "metadata": {},
   "outputs": [
    {
     "name": "stdout",
     "output_type": "stream",
     "text": [
      "9\n"
     ]
    }
   ],
   "source": [
    "print(len(demolist))  #6列表长度"
   ]
  },
  {
   "cell_type": "code",
   "execution_count": 86,
   "metadata": {},
   "outputs": [
    {
     "name": "stdout",
     "output_type": "stream",
     "text": [
      "[1, 3, [8, 9, 10], 4, 5, 20, 'hello', ['a', 'b', 'c', 20]]\n"
     ]
    }
   ],
   "source": [
    "list.insert(2, [8,9,10]) #7在列表的指定位置插入元素（可以时任意对象，如这里就是插入的一个列表）\n",
    "print(list)"
   ]
  },
  {
   "cell_type": "code",
   "execution_count": 87,
   "metadata": {},
   "outputs": [
    {
     "name": "stdout",
     "output_type": "stream",
     "text": [
      "0\n"
     ]
    }
   ],
   "source": [
    "print(demolist.count(20)) #8统计某个值在列表中出现的次数"
   ]
  },
  {
   "cell_type": "code",
   "execution_count": 88,
   "metadata": {},
   "outputs": [
    {
     "name": "stdout",
     "output_type": "stream",
     "text": [
      "[1, 3, [8, 9, 10], 4, 5, 20, 'hello', ['a', 'b', 'c', 20], 20, 100, 200, 300]\n"
     ]
    }
   ],
   "source": [
    "list.extend([20,100,200,300]) #9将指定的列表以个体的方式追加到列表的末尾\n",
    "print(list)"
   ]
  },
  {
   "cell_type": "code",
   "execution_count": 89,
   "metadata": {},
   "outputs": [
    {
     "name": "stdout",
     "output_type": "stream",
     "text": [
      "[1, 3, [8, 9, 10], 4, 5, 'hello', ['a', 'b', 'c', 20], 20, 100, 200, 300]\n"
     ]
    }
   ],
   "source": [
    "list.remove(20) #10删除列表中第一次出现的指定元素\n",
    "print(list)"
   ]
  },
  {
   "cell_type": "code",
   "execution_count": 90,
   "metadata": {},
   "outputs": [
    {
     "name": "stdout",
     "output_type": "stream",
     "text": [
      "[[1, 2, 3], [4, 5, 6], [7, 8, 9]]\n",
      "[1, 2, 3]\n",
      "[[4, 5, 6], [7, 8, 9]]\n"
     ]
    }
   ],
   "source": [
    "list = [[1,2,3],[4,5,6],[7,8,9]] #定义二维列表相当于一个3*3的二维数组\n",
    "print(list)\n",
    "print(list[0]) #输出第一行\n",
    "del list[0] #删除第一行\n",
    "print(list)"
   ]
  },
  {
   "cell_type": "code",
   "execution_count": 91,
   "metadata": {},
   "outputs": [
    {
     "name": "stdout",
     "output_type": "stream",
     "text": [
      "[1, 2, 3, 4]\n",
      "[1, 2, 3, 4]\n"
     ]
    }
   ],
   "source": [
    "# ！！！ 复制拷贝\n",
    "a=[1,2,3]\n",
    "b=a\n",
    "a.append(4)\n",
    "print(a)\n",
    "print(b)"
   ]
  },
  {
   "cell_type": "code",
   "execution_count": 92,
   "metadata": {},
   "outputs": [
    {
     "name": "stdout",
     "output_type": "stream",
     "text": [
      "2756320705288\n",
      "2756320705288\n"
     ]
    }
   ],
   "source": [
    "print(id(a))\n",
    "print(id(b))"
   ]
  },
  {
   "cell_type": "code",
   "execution_count": 93,
   "metadata": {},
   "outputs": [
    {
     "data": {
      "text/plain": [
       "2756321400648"
      ]
     },
     "execution_count": 93,
     "metadata": {},
     "output_type": "execute_result"
    }
   ],
   "source": [
    "c=[]\n",
    "id(c)"
   ]
  },
  {
   "cell_type": "code",
   "execution_count": 94,
   "metadata": {},
   "outputs": [
    {
     "name": "stdout",
     "output_type": "stream",
     "text": [
      "[1, 2, 3, 4]\n",
      "2756321222216\n"
     ]
    }
   ],
   "source": [
    "#可以看出a和b都指向同一个内存地址。c指向一个新建的空列表，因此指向了不同的地址。\n",
    "#现在我们要复制a指引的列表。我们必须创建新的列表，然后使用b指引它。\n",
    "c=a[:]\n",
    "print(c)\n",
    "print(id(c))\n",
    "#这其实就是 new = old[:]。切片运算符[:]返回一个序列的切片。\n",
    "#切片过程是切下列表的一部分，创建新的列表，将切下的部分复制到新列表。"
   ]
  },
  {
   "cell_type": "code",
   "execution_count": 97,
   "metadata": {},
   "outputs": [
    {
     "ename": "TypeError",
     "evalue": "'list' object is not callable",
     "output_type": "error",
     "traceback": [
      "\u001b[1;31m---------------------------------------------------------------------------\u001b[0m",
      "\u001b[1;31mTypeError\u001b[0m                                 Traceback (most recent call last)",
      "\u001b[1;32m<ipython-input-97-de9f84fab383>\u001b[0m in \u001b[0;36m<module>\u001b[1;34m\u001b[0m\n\u001b[0;32m      1\u001b[0m \u001b[1;31m#通过调用a[:]，我们得到一个从列表首端开始到末端的切片，也就是a（指引的列表）的完整复制。\u001b[0m\u001b[1;33m\u001b[0m\u001b[1;33m\u001b[0m\u001b[1;33m\u001b[0m\u001b[0m\n\u001b[0;32m      2\u001b[0m \u001b[1;31m#但这不是复制列表的唯一方式。\u001b[0m\u001b[1;33m\u001b[0m\u001b[1;33m\u001b[0m\u001b[1;33m\u001b[0m\u001b[0m\n\u001b[1;32m----> 3\u001b[1;33m \u001b[0md\u001b[0m\u001b[1;33m=\u001b[0m\u001b[0mlist\u001b[0m\u001b[1;33m(\u001b[0m\u001b[0ma\u001b[0m\u001b[1;33m)\u001b[0m\u001b[1;33m\u001b[0m\u001b[1;33m\u001b[0m\u001b[0m\n\u001b[0m\u001b[0;32m      4\u001b[0m \u001b[0mid\u001b[0m\u001b[1;33m(\u001b[0m\u001b[0ma\u001b[0m\u001b[1;33m)\u001b[0m\u001b[1;33m\u001b[0m\u001b[1;33m\u001b[0m\u001b[0m\n\u001b[0;32m      5\u001b[0m \u001b[0mid\u001b[0m\u001b[1;33m(\u001b[0m\u001b[0md\u001b[0m\u001b[1;33m)\u001b[0m\u001b[1;33m\u001b[0m\u001b[1;33m\u001b[0m\u001b[0m\n",
      "\u001b[1;31mTypeError\u001b[0m: 'list' object is not callable"
     ]
    }
   ],
   "source": [
    "#通过调用a[:]，我们得到一个从列表首端开始到末端的切片，也就是a（指引的列表）的完整复制。\n",
    "#但这不是复制列表的唯一方式。\n",
    "d=list(a)\n",
    "id(a)\n",
    "id(d)\n",
    "#???????????? https://www.cnblogs.com/ifantastic/p/3811145.html"
   ]
  },
  {
   "cell_type": "code",
   "execution_count": 100,
   "metadata": {},
   "outputs": [
    {
     "name": "stdout",
     "output_type": "stream",
     "text": [
      "2756321429320 [[10, 11], 20, 21]\n",
      "2756320743240 [[10, 11], 20]\n",
      "2756320629192 [[10, 11], 20]\n",
      "2756320629256 [[10, 11], 20]\n",
      "2756320629320 [[10], 20]\n"
     ]
    }
   ],
   "source": [
    "# 五种copy方法比较\n",
    "import copy\n",
    "a = [[10], 20]\n",
    "b = a[:]\n",
    "#c = list(a)\n",
    "d = a * 1\n",
    "e = copy.copy(a)\n",
    "f = copy.deepcopy(a)\n",
    "a.append(21)\n",
    "a[0].append(11)\n",
    "print (id(a), a)\n",
    "print (id(b), b)\n",
    "#print (id(c), c)\n",
    "print (id(d), d)\n",
    "print (id(e), e)\n",
    "print (id(f), f)\n"
   ]
  },
  {
   "cell_type": "code",
   "execution_count": 101,
   "metadata": {},
   "outputs": [],
   "source": [
    "#从以上可以看出，使用 a[:], list(a), a*1, copy.copy(a)\n",
    "#四种方式复制列表结果都可以得到一个新的列表，\n",
    "#但是如果列表中含有列表，所有b, c, d, e四个新列表的子列表都是指引到同一个对象上。\n",
    "#只有使用copy.deepcopy(a)方法得到的新列表f才是包括子列表在内的完全复制。"
   ]
  },
  {
   "cell_type": "code",
   "execution_count": 102,
   "metadata": {},
   "outputs": [
    {
     "name": "stdout",
     "output_type": "stream",
     "text": [
      "<class 'range'>\n"
     ]
    },
    {
     "ename": "TypeError",
     "evalue": "'list' object is not callable",
     "output_type": "error",
     "traceback": [
      "\u001b[1;31m---------------------------------------------------------------------------\u001b[0m",
      "\u001b[1;31mTypeError\u001b[0m                                 Traceback (most recent call last)",
      "\u001b[1;32m<ipython-input-102-707fb12ee8ca>\u001b[0m in \u001b[0;36m<module>\u001b[1;34m\u001b[0m\n\u001b[0;32m      1\u001b[0m \u001b[0mprint\u001b[0m\u001b[1;33m(\u001b[0m\u001b[0mtype\u001b[0m\u001b[1;33m(\u001b[0m\u001b[0mrange\u001b[0m\u001b[1;33m(\u001b[0m\u001b[1;36m1\u001b[0m\u001b[1;33m,\u001b[0m\u001b[1;36m10\u001b[0m\u001b[1;33m)\u001b[0m\u001b[1;33m)\u001b[0m\u001b[1;33m)\u001b[0m\u001b[1;33m\u001b[0m\u001b[1;33m\u001b[0m\u001b[0m\n\u001b[1;32m----> 2\u001b[1;33m \u001b[0mprint\u001b[0m\u001b[1;33m(\u001b[0m\u001b[0mlist\u001b[0m\u001b[1;33m(\u001b[0m\u001b[0mrange\u001b[0m\u001b[1;33m(\u001b[0m\u001b[1;36m1\u001b[0m\u001b[1;33m,\u001b[0m\u001b[1;36m10\u001b[0m\u001b[1;33m)\u001b[0m\u001b[1;33m)\u001b[0m\u001b[1;33m)\u001b[0m\u001b[1;33m\u001b[0m\u001b[1;33m\u001b[0m\u001b[0m\n\u001b[0m",
      "\u001b[1;31mTypeError\u001b[0m: 'list' object is not callable"
     ]
    }
   ],
   "source": [
    "print(type(range(1,10)))\n",
    "print(list(range(1,10)))"
   ]
  },
  {
   "cell_type": "code",
   "execution_count": 105,
   "metadata": {},
   "outputs": [
    {
     "name": "stdout",
     "output_type": "stream",
     "text": [
      "range(1, 10)\n"
     ]
    },
    {
     "ename": "TypeError",
     "evalue": "'list' object is not callable",
     "output_type": "error",
     "traceback": [
      "\u001b[1;31m---------------------------------------------------------------------------\u001b[0m",
      "\u001b[1;31mTypeError\u001b[0m                                 Traceback (most recent call last)",
      "\u001b[1;32m<ipython-input-105-480eed697da9>\u001b[0m in \u001b[0;36m<module>\u001b[1;34m\u001b[0m\n\u001b[0;32m      1\u001b[0m \u001b[0ma\u001b[0m\u001b[1;33m=\u001b[0m\u001b[0mrange\u001b[0m\u001b[1;33m(\u001b[0m\u001b[1;36m1\u001b[0m\u001b[1;33m,\u001b[0m\u001b[1;36m10\u001b[0m\u001b[1;33m)\u001b[0m\u001b[1;33m\u001b[0m\u001b[1;33m\u001b[0m\u001b[0m\n\u001b[0;32m      2\u001b[0m \u001b[0mprint\u001b[0m\u001b[1;33m(\u001b[0m\u001b[0ma\u001b[0m\u001b[1;33m)\u001b[0m\u001b[1;33m\u001b[0m\u001b[1;33m\u001b[0m\u001b[0m\n\u001b[1;32m----> 3\u001b[1;33m \u001b[0mprint\u001b[0m\u001b[1;33m(\u001b[0m\u001b[0mlist\u001b[0m\u001b[1;33m(\u001b[0m\u001b[0ma\u001b[0m\u001b[1;33m)\u001b[0m\u001b[1;33m)\u001b[0m\u001b[1;33m\u001b[0m\u001b[1;33m\u001b[0m\u001b[0m\n\u001b[0m",
      "\u001b[1;31mTypeError\u001b[0m: 'list' object is not callable"
     ]
    }
   ],
   "source": [
    "a=range(1,10)\n",
    "print(a)\n",
    "print(list(a))"
   ]
  },
  {
   "cell_type": "code",
   "execution_count": 106,
   "metadata": {},
   "outputs": [
    {
     "name": "stdout",
     "output_type": "stream",
     "text": [
      "Hello World\n",
      "Hello World\n",
      "Hello World\n"
     ]
    }
   ],
   "source": [
    "# 作业1 ： 打印Hello World\n",
    "# 直接打印\n",
    "print(\"Hello World\")\n",
    "print(\"%s\" % \"Hello World\")\n",
    "print(\"{}\".format(\"Hello World\"))"
   ]
  },
  {
   "cell_type": "code",
   "execution_count": 111,
   "metadata": {
    "scrolled": true
   },
   "outputs": [
    {
     "name": "stdout",
     "output_type": "stream",
     "text": [
      "['Dad', 'Mom', 'FishAI', 'Me', 'Bro', 'Sis']\n",
      "['Dad', 'Mom', 'Me', 'Bro', 'Sis']\n",
      "FishAI不在我家\n"
     ]
    }
   ],
   "source": [
    "# 作业2 ：\n",
    "\"\"\"\n",
    "定义一个列表，包含自己的家庭成员名字，\n",
    "定义完成后在你名字前加入\"大鱼AI\"，再\n",
    "将\"大鱼AI\"这一名字删除，此时判断\"\n",
    "大鱼AI\"是否在列表中。\n",
    "\"\"\"\n",
    "# 定义列表\n",
    "my_family = [\"Dad\", \"Mom\", \"Me\",\"Bro\",\"Sis\"]\n",
    "my_family.insert(2, \"FishAI\")\n",
    "print(my_family)\n",
    "\n",
    "my_family.remove(\"FishAI\")\n",
    "print(my_family)\n",
    "\n",
    "if \"FishAI\" in my_family:\n",
    "    print(\"FishAI在我家\")\n",
    "else:\n",
    "    print(\"FishAI不在我家\")"
   ]
  },
  {
   "cell_type": "code",
   "execution_count": 1,
   "metadata": {},
   "outputs": [
    {
     "name": "stdout",
     "output_type": "stream",
     "text": [
      "{'key1': 'value1', 'key2': 'value2'}\n"
     ]
    }
   ],
   "source": [
    "## 字典 dict\n",
    "dic={\"key1\":\"value1\", \"key2\":\"value2\"} #定义字典\n",
    "print(dic)"
   ]
  },
  {
   "cell_type": "code",
   "execution_count": 3,
   "metadata": {},
   "outputs": [
    {
     "name": "stdout",
     "output_type": "stream",
     "text": [
      "{'key1': 'value1', 'key2': 'value2', 'key3': 'value3'}\n",
      "value2\n",
      "{'key2': 'value2', 'key3': 'value3'}\n",
      "{'key2': 'value2', 'key3': 'value3', 'key4': 'value4'}\n",
      "{'key2': 13452, 'key3': 'value3', 'key4': 'value4'}\n",
      "3\n"
     ]
    }
   ],
   "source": [
    "## 字典的基础操作\n",
    "# 1） 可以增加、删除、修改、访问字典中的元素。同样也可以求字典的长度。\n",
    "dic={\"key1\":\"value1\",\"key2\":\"value2\",\"key3\":\"value3\"} #定义字典\n",
    "print(dic) #打印整个字典\n",
    "print(dic[\"key2\"]) #打印整个字典\n",
    "\n",
    "del dic[\"key1\"] #根据key删除元素(通过键删除一个键值对)\n",
    "print(dic)\n",
    "\n",
    "dic[\"key4\"]=\"value4\" #可以直接添加一个原字典里没有的元素(key不存在就行)\n",
    "print(dic)\n",
    "\n",
    "dic[\"key2\"]=13452 #修改字典中的某值\n",
    "print(dic) #打印整个字典\n",
    "\n",
    "print(len(dic)) #字典的长度s"
   ]
  },
  {
   "cell_type": "code",
   "execution_count": 6,
   "metadata": {},
   "outputs": [
    {
     "name": "stdout",
     "output_type": "stream",
     "text": [
      "2073537310296\n",
      "2073537308136\n",
      "{'key0': 'value0'}\n"
     ]
    }
   ],
   "source": [
    "dic={\"key1\":\"value1\",\"key2\":\"value2\",\"key3\":\"value3\"} #定义字典\n",
    "print(id(dic))\n",
    "dic={\"key0\":\"value0\"}\n",
    "print(id(dic))\n",
    "print(dic)"
   ]
  },
  {
   "cell_type": "code",
   "execution_count": 7,
   "metadata": {},
   "outputs": [
    {
     "ename": "SyntaxError",
     "evalue": "invalid syntax (<ipython-input-7-04dd52375b37>, line 4)",
     "output_type": "error",
     "traceback": [
      "\u001b[1;36m  File \u001b[1;32m\"<ipython-input-7-04dd52375b37>\"\u001b[1;36m, line \u001b[1;32m4\u001b[0m\n\u001b[1;33m    for key in dic\u001b[0m\n\u001b[1;37m                  ^\u001b[0m\n\u001b[1;31mSyntaxError\u001b[0m\u001b[1;31m:\u001b[0m invalid syntax\n"
     ]
    }
   ],
   "source": [
    "# 2) 对字典进行遍历 通过字典的in运算对字典进行遍历（其实是用的for循环），\n",
    "# 也可以用来判断某个键是否在字典中。\n",
    "dic={\"key1\":\"value1\",\"key2\":\"value2\",\"key3\":\"value3\"} #定义字典\n",
    "for key in dic\n",
    "    print(key,dic[key]) #遍历字典并输出\n",
    "    \n",
    "print('key1' in dic)\n",
    "print('key5' in dic)"
   ]
  },
  {
   "cell_type": "code",
   "execution_count": 10,
   "metadata": {},
   "outputs": [
    {
     "name": "stdout",
     "output_type": "stream",
     "text": [
      "key1 value1\n",
      "key2 value2\n",
      "key3 value3\n",
      "True\n",
      "False\n"
     ]
    }
   ],
   "source": [
    "# 2) 对字典进行遍历 通过字典的in运算对字典进行遍历（其实是用的for循环），\n",
    "# 也可以用来判断某个键是否在字典中。\n",
    "dic={\"key1\":\"value1\",\"key2\":\"value2\",\"key3\":\"value3\"} #定义字典\n",
    "for key in dic:\n",
    "    print(key,dic[key]) #遍历字典并输出\n",
    "    \n",
    "print('key1' in dic)\n",
    "print('key5' in dic)\n",
    " # ！！ 冒号且英文冒号啊大兄弟"
   ]
  },
  {
   "cell_type": "code",
   "execution_count": 12,
   "metadata": {},
   "outputs": [
    {
     "name": "stdout",
     "output_type": "stream",
     "text": [
      "{'key1': 'value1', 'key2': 'value2', 'key3': 'value3'}\n",
      "2073537356352\n",
      "{'key1': 'value1', 'key2': 'value2', 'key3': 'value3'}\n",
      "2073537356424\n",
      "{'key1': 'value1', 'key2': 'value2', 'key3': 'value3'}\n",
      "2073537356424\n"
     ]
    }
   ],
   "source": [
    "# 字典的相关函数/方法\n",
    "# 1 字典复制copy函数：字典的copy方法可以新建一字典与拷贝对象里的数据项一样。\n",
    "dic={\"key1\":\"value1\",\"key2\":\"value2\",\"key3\":\"value3\"} #定义字典\n",
    "dic1=dic.copy()  #字典复制\n",
    "dic2=dic1\n",
    "print(dic)\n",
    "print(id(dic))\n",
    "print(dic1)\n",
    "print(id(dic1))\n",
    "print(dic2)\n",
    "print(id(dic2))"
   ]
  },
  {
   "cell_type": "code",
   "execution_count": 13,
   "metadata": {},
   "outputs": [
    {
     "name": "stdout",
     "output_type": "stream",
     "text": [
      "{'key1': 'value1', 'key2': 'value2', 'key3': 'value3'}\n",
      "{'key1': 'value1', 'key2': 'value2'}\n",
      "{'key1': 'value1', 'key2': 'value2'}\n",
      "{'key2': 'value2'}\n",
      "{'key2': 'value2'}\n"
     ]
    }
   ],
   "source": [
    "del dic1['key3'] #dic1是dic的一个副本，对dic1进行操作不影响dic\n",
    "print(dic)\n",
    "print(dic1)\n",
    "print(dic2)\n",
    "\n",
    "del dic2['key1'] #dic2与dic1相互影响\n",
    "print(dic1)\n",
    "print(dic2)"
   ]
  },
  {
   "cell_type": "code",
   "execution_count": 14,
   "metadata": {},
   "outputs": [
    {
     "name": "stdout",
     "output_type": "stream",
     "text": [
      "{'key1': 'value1', 'key2': 'value2', 'key3': 'value3'}\n",
      "value1\n",
      "{'key1': 'value8', 'key2': 'value2', 'key3': 'value3'}\n",
      "{'key1': 'value8', 'key2': 'value2', 'key3': 'value3', 'key5': 'value9'}\n"
     ]
    }
   ],
   "source": [
    "# 2）字典的get函数和update函数：dic_name.get(key_name)函数等价\n",
    "# 于dic_name[key_name]用来获取某键对应的值。\n",
    "# update(key_value)函数用来更新字典里对应Key的值，\n",
    "# 如果要更新的key在字典里不存在，则update就向字典里增加数据。\n",
    "dic={\"key1\":\"value1\",\"key2\":\"value2\",\"key3\":\"value3\"} #定义字典\n",
    "print(dic)\n",
    "print(dic.get(\"key1\")) #相当于dic['key1']\n",
    "dic.update({'key1':'value8'}) #更新key1的值\n",
    "print(dic)\n",
    "dic.update({'key5':'value9'}) #增加key5\n",
    "print(dic)"
   ]
  },
  {
   "cell_type": "code",
   "execution_count": 15,
   "metadata": {},
   "outputs": [
    {
     "name": "stdout",
     "output_type": "stream",
     "text": [
      "{'key1': 'value1', 'key2': 'value2', 'key3': 'value3'}\n",
      "dict_keys(['key1', 'key2', 'key3'])\n",
      "dict_values(['value1', 'value2', 'value3'])\n",
      "dict_items([('key1', 'value1'), ('key2', 'value2'), ('key3', 'value3')])\n"
     ]
    }
   ],
   "source": [
    "# 3) 字典里的keys()、values()、items()函数：\n",
    "#  他们返回的都是一个列表。keys()获取字典的所有Key,values()获取字典的所有value，\n",
    "#  items()获取字典的key,value值。\n",
    "dic={\"key1\":\"value1\",\"key2\":\"value2\",\"key3\":\"value3\"} #定义字典\n",
    "print(dic)\n",
    "print(dic.keys()) #获取所有的Key\n",
    "print(dic.values()) #获取所有的value\n",
    "print(dic.items()) #获取所有的key,value"
   ]
  },
  {
   "cell_type": "code",
   "execution_count": 18,
   "metadata": {},
   "outputs": [
    {
     "name": "stdout",
     "output_type": "stream",
     "text": [
      "{}\n",
      "{'a': '123', 'b': 456}\n",
      "{1: 'B', 2: 'A'}\n"
     ]
    }
   ],
   "source": [
    "# 4）字典dict()函数：创建字典的函数\n",
    "d0 = dict() #创建空字典\n",
    "print(d0)\n",
    "\n",
    "d1 = dict(a='123',b=456)\n",
    "#通过赋值创建字典 ,key不能加引号,value如果是字符串就要加引号，是数字可以不加\n",
    "print(d1)\n",
    "\n",
    "key=range(1,3)\n",
    "value={'A','B','B'}\n",
    "d2=dict(zip(key,value)) #通过一对列表创建字典\n",
    "print(d2)"
   ]
  },
  {
   "cell_type": "code",
   "execution_count": 20,
   "metadata": {},
   "outputs": [
    {
     "name": "stdout",
     "output_type": "stream",
     "text": [
      "{'key1': 'value1', 'key2': 'value2', 'key3': 'value3'}\n",
      "value2\n",
      "{'key1': 'value1', 'key3': 'value3'}\n",
      "('key3', 'value3')\n",
      "{'key1': 'value1'}\n",
      "{}\n"
     ]
    }
   ],
   "source": [
    "# 5）字典的pop()、popitem()和clear()函数：\n",
    "# pop()函数用于通过key来获取其value值并从字典里删除该数据项。\n",
    "# popitem()函数随机移除一个数据项并返回移除的数据项(元组形式返回)。\n",
    "# clear()函数用于清除字典数据项。\n",
    "dic={\"key1\":\"value1\",\"key2\":\"value2\",\"key3\":\"value3\"} #定义字典\n",
    "print(dic)\n",
    "\n",
    "print(dic.pop('key2')) #删除key2并返回Key2对应的value值\n",
    "print(dic)\n",
    "print (dic.popitem()) #随机删除一对数据项，并以元组形式返回该数据项\n",
    "print (dic)\n",
    "\n",
    "dic.clear() #清空字典的条目\n",
    "print (dic)"
   ]
  },
  {
   "cell_type": "code",
   "execution_count": 22,
   "metadata": {},
   "outputs": [
    {
     "name": "stdout",
     "output_type": "stream",
     "text": [
      "(1, 2, 3)\n",
      "1\n"
     ]
    },
    {
     "ename": "TypeError",
     "evalue": "'tuple' object does not support item assignment",
     "output_type": "error",
     "traceback": [
      "\u001b[1;31m---------------------------------------------------------------------------\u001b[0m",
      "\u001b[1;31mTypeError\u001b[0m                                 Traceback (most recent call last)",
      "\u001b[1;32m<ipython-input-22-85f9725e7ddb>\u001b[0m in \u001b[0;36m<module>\u001b[1;34m\u001b[0m\n\u001b[0;32m      6\u001b[0m \u001b[1;33m\u001b[0m\u001b[0m\n\u001b[0;32m      7\u001b[0m \u001b[1;31m# 2.修改（不可修改）\u001b[0m\u001b[1;33m\u001b[0m\u001b[1;33m\u001b[0m\u001b[1;33m\u001b[0m\u001b[0m\n\u001b[1;32m----> 8\u001b[1;33m \u001b[0mtuple1\u001b[0m\u001b[1;33m[\u001b[0m\u001b[1;36m0\u001b[0m\u001b[1;33m]\u001b[0m \u001b[1;33m=\u001b[0m \u001b[1;36m6\u001b[0m\u001b[1;33m\u001b[0m\u001b[1;33m\u001b[0m\u001b[0m\n\u001b[0m\u001b[0;32m      9\u001b[0m \u001b[1;31m# 报错：'tuple' object does not support item assignment\u001b[0m\u001b[1;33m\u001b[0m\u001b[1;33m\u001b[0m\u001b[1;33m\u001b[0m\u001b[0m\n",
      "\u001b[1;31mTypeError\u001b[0m: 'tuple' object does not support item assignment"
     ]
    }
   ],
   "source": [
    "# 元组\n",
    "tuple1 = (1, 2, 3)\n",
    "print(tuple1)\n",
    "# 1.索引\n",
    "print(tuple1[0])\n",
    "\n",
    "# 2.修改（不可修改）\n",
    "tuple1[0] = 6\n",
    "# 报错：'tuple' object does not support item assignment"
   ]
  },
  {
   "cell_type": "code",
   "execution_count": 24,
   "metadata": {},
   "outputs": [
    {
     "name": "stdout",
     "output_type": "stream",
     "text": [
      "['我', '爱', '大', '鱼', 'A', 'I']\n",
      "[1, 2, 3]\n"
     ]
    }
   ],
   "source": [
    "# 序列间的转换\n",
    "# 1 字符串、元组 转变成列表\n",
    "str1=\"我爱大鱼AI\"\n",
    "list1=[\"python\",\"java\",\"c++\"]\n",
    "tuple1=(1,2,3)\n",
    "\n",
    "# 字符串转变成列表\n",
    "print(list(str1))\n",
    "# 元组转变成列表\n",
    "print(list(tuple1))"
   ]
  },
  {
   "cell_type": "code",
   "execution_count": 26,
   "metadata": {},
   "outputs": [
    {
     "name": "stdout",
     "output_type": "stream",
     "text": [
      "('我', '爱', '大', '鱼', 'A', 'I')\n",
      "('python', 'java', 'c++')\n"
     ]
    }
   ],
   "source": [
    "# 2 字符串转变成元组\n",
    "print(tuple(str1))\n",
    "# 列表转变成元组\n",
    "print(tuple(list1))"
   ]
  },
  {
   "cell_type": "code",
   "execution_count": 27,
   "metadata": {},
   "outputs": [
    {
     "name": "stdout",
     "output_type": "stream",
     "text": [
      "['python', 'java', 'c++']\n",
      "(1, 2, 3)\n"
     ]
    }
   ],
   "source": [
    "# 3 列表 元组 转变成字符串\n",
    "# 列表转变成字符串\n",
    "print(str(list1))\n",
    "# 元组转变成字符串\n",
    "print(str(tuple1))"
   ]
  },
  {
   "cell_type": "code",
   "execution_count": 28,
   "metadata": {},
   "outputs": [
    {
     "name": "stdout",
     "output_type": "stream",
     "text": [
      "我爱大鱼AI\n",
      "这里有大鱼\n",
      "我们都是学习Python的er\n"
     ]
    }
   ],
   "source": [
    "# 成员运算符\n",
    "print(str1)\n",
    "if \"大鱼\" in str1:\n",
    "    print(\"这里有大鱼\")\n",
    "if \"JAVA\" not in str1:\n",
    "    print(\"我们都是学习Python的er\")\n",
    "   "
   ]
  },
  {
   "cell_type": "code",
   "execution_count": 29,
   "metadata": {},
   "outputs": [
    {
     "name": "stdout",
     "output_type": "stream",
     "text": [
      "str1 与str2 引用的同一个对象\n"
     ]
    }
   ],
   "source": [
    "# 身份运算符\n",
    "str1=\"AI\"\n",
    "str2=\"AI\"\n",
    "if str1 is str2:\n",
    "    print(\"str1 与str2 引用的同一个对象\")"
   ]
  },
  {
   "cell_type": "code",
   "execution_count": null,
   "metadata": {},
   "outputs": [],
   "source": []
  }
 ],
 "metadata": {
  "kernelspec": {
   "display_name": "Python 3",
   "language": "python",
   "name": "python3"
  },
  "language_info": {
   "codemirror_mode": {
    "name": "ipython",
    "version": 3
   },
   "file_extension": ".py",
   "mimetype": "text/x-python",
   "name": "python",
   "nbconvert_exporter": "python",
   "pygments_lexer": "ipython3",
   "version": "3.7.1"
  }
 },
 "nbformat": 4,
 "nbformat_minor": 2
}
